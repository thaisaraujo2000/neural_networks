{
  "nbformat": 4,
  "nbformat_minor": 0,
  "metadata": {
    "colab": {
      "provenance": []
    },
    "kernelspec": {
      "name": "python3",
      "display_name": "Python 3"
    },
    "language_info": {
      "name": "python"
    }
  },
  "cells": [
    {
      "cell_type": "markdown",
      "source": [
        "# Question 7\n",
        "\n",
        "Pesquise e apresente um trabalho sobre redes neurais/deep learning com aprendizagem semi-supervisionada."
      ],
      "metadata": {
        "id": "MsrhdqcsuOdM"
      }
    },
    {
      "cell_type": "markdown",
      "source": [
        "Authors: \n",
        "  - [Morsinaldo de Azevedo Medeiros](https://github.com/Morsinaldo)\n",
        "  - [Thaís de Araújo de Medeiros](https://github.com/thaisaraujo2000)\n",
        "\n",
        "Adapted from [BROWNLEE, Jason. Semi-Supervised Learning With Label Propagation](https://machinelearningmastery.com/semi-supervised-learning-with-label-propagation/)"
      ],
      "metadata": {
        "id": "D5lqA7Wcu-cN"
      }
    },
    {
      "cell_type": "markdown",
      "source": [
        "A aprendizagem semi-supervisionada se refere a algoritmos que tentam utilizar tanto dados de treinamento rotulados quanto não rotulados.\n",
        "\n",
        "Os algoritmos de aprendizagem semi-supervisionada são diferentes dos algoritmos de aprendizagem supervisionada, que só conseguem aprender a partir de dados de treinamento rotulados.\n",
        "\n",
        "Uma abordagem popular para a aprendizagem semi-supervisionada é criar um grafo que conecta exemplos no conjunto de dados de treinamento e propagar os rótulos conhecidos através das arestas do grafo para rotular exemplos não rotulados. Um exemplo dessa abordagem para a aprendizagem semi-supervisionada é o algoritmo de propagação de rótulos (Label Propagation Algorithm) para modelagem preditiva de classificação.\n",
        "\n",
        "Com isso em vista, o presente estudo é dividido em três partes:\n",
        "\n",
        "1. Label Propagation Algorithm\n",
        "2. Semi-Supervised Classification Dataset\n",
        "3. Label Propagation for Semi-Supervised Learning"
      ],
      "metadata": {
        "id": "pyVoRNqIu9K4"
      }
    },
    {
      "cell_type": "markdown",
      "source": [
        "## 1 Label Propagation Algorithm"
      ],
      "metadata": {
        "id": "yoi8mikr0Rq5"
      }
    },
    {
      "cell_type": "markdown",
      "source": [
        "O Label Propagation é um algoritmo proposto no relatório técnico de 2002 por Xiaojin Zhu e Zoubin Ghahramani intitulado \"[Learning From Labeled And Unlabeled Data With Label Propagation](http://pages.cs.wisc.edu/~jerryzhu/pub/CMU-CALD-02-107.pdf)\" (Aprendendo a partir de Dados Rotulados e Não Rotulados com Propagação de Rótulos).\n",
        "\n",
        "A intuição por trás do algoritmo é que um grafo é criado para conectar todos os exemplos (linhas) no conjunto de dados com base em sua distância, como a [distância euclidiana](https://machinelearningmastery.com/distance-measures-for-machine-learning/). Os nós no grafo então possuem rótulos suaves ou distribuição de rótulos com base nos rótulos ou distribuições de rótulos dos exemplos conectados nas proximidades no grafo."
      ],
      "metadata": {
        "id": "5m93aAc10WKn"
      }
    },
    {
      "cell_type": "markdown",
      "source": [
        "## 2 Semi-Supervised Classification Dataset"
      ],
      "metadata": {
        "id": "Ex763Av30p0H"
      }
    },
    {
      "cell_type": "markdown",
      "source": [
        "Nesta seção, vamos definir um conjunto de dados para aprendizagem semi-supervisionada e estabelecer uma linha de base de desempenho no conjunto de dados.\n",
        "\n",
        "Primeiro, podemos definir um conjunto de dados de classificação sintético usando a função [make_classification()](https://scikit-learn.org/stable/modules/generated/sklearn.datasets.make_classification.html).\n",
        "\n",
        "Vamos definir o conjunto de dados com duas classes (classificação binária), duas variáveis de entrada e 1.000 exemplos."
      ],
      "metadata": {
        "id": "gbPmE3eT0-g8"
      }
    },
    {
      "cell_type": "markdown",
      "source": [
        "### Importação das bibliotecas"
      ],
      "metadata": {
        "id": "EV8WwbgOBsmS"
      }
    },
    {
      "cell_type": "code",
      "execution_count": null,
      "metadata": {
        "id": "Dj8pE-WIuK9K"
      },
      "outputs": [],
      "source": [
        "# import libraries\n",
        "import matplotlib.pyplot as plt\n",
        "from sklearn.datasets import make_classification\n",
        "from sklearn.model_selection import train_test_split\n",
        "from sklearn.metrics import accuracy_score\n",
        "from sklearn.linear_model import LogisticRegression"
      ]
    },
    {
      "cell_type": "markdown",
      "source": [
        "### Importação dos dados"
      ],
      "metadata": {
        "id": "VBXwfnneBviz"
      }
    },
    {
      "cell_type": "code",
      "source": [
        "# define dataset\n",
        "X, y = make_classification(n_samples=1000, n_features=2, n_informative=2, n_redundant=0, random_state=1)"
      ],
      "metadata": {
        "id": "hcDdpmFa1Xz0"
      },
      "execution_count": null,
      "outputs": []
    },
    {
      "cell_type": "code",
      "source": [
        "print(X)"
      ],
      "metadata": {
        "colab": {
          "base_uri": "https://localhost:8080/"
        },
        "id": "8EDVja_32ksz",
        "outputId": "39a047df-068c-40d6-f804-20452a46a068"
      },
      "execution_count": null,
      "outputs": [
        {
          "output_type": "stream",
          "name": "stdout",
          "text": [
            "[[ 0.86341137 -0.91235445]\n",
            " [-0.53099717  0.90118241]\n",
            " [ 0.98277596 -1.59111159]\n",
            " ...\n",
            " [ 1.33019532  3.72180951]\n",
            " [-1.01084076  0.42633933]\n",
            " [-1.00873243  1.24540194]]\n"
          ]
        }
      ]
    },
    {
      "cell_type": "code",
      "source": [
        "print(y)"
      ],
      "metadata": {
        "colab": {
          "base_uri": "https://localhost:8080/"
        },
        "id": "PU_PqDPe2nZ8",
        "outputId": "58fefee8-07a5-4bca-83d8-291dfd4277df"
      },
      "execution_count": null,
      "outputs": [
        {
          "output_type": "stream",
          "name": "stdout",
          "text": [
            "[1 0 0 0 1 1 1 0 0 0 0 0 0 0 1 0 0 0 0 0 1 0 1 1 1 1 1 0 0 0 0 0 0 1 1 0 0\n",
            " 1 1 1 1 0 0 1 0 0 0 1 1 1 1 1 0 1 1 1 1 0 0 0 0 1 1 0 1 1 0 1 1 0 1 1 0 0\n",
            " 0 1 1 1 1 1 1 1 0 0 1 1 1 1 1 0 1 1 1 1 0 1 0 0 0 0 1 1 1 1 1 1 0 1 0 1 0\n",
            " 0 1 1 1 1 1 1 1 1 1 0 1 0 1 0 0 1 0 0 0 0 1 1 0 1 0 1 1 1 1 0 0 0 1 1 0 0\n",
            " 0 1 0 0 1 1 1 1 0 1 0 0 1 0 1 1 1 1 1 0 0 0 0 0 0 1 0 1 1 0 1 0 1 0 1 0 0\n",
            " 1 1 1 1 1 1 1 1 1 1 1 1 1 0 1 0 0 0 0 0 0 1 0 0 0 0 1 0 0 0 0 1 1 1 0 1 0\n",
            " 0 0 1 0 1 0 1 0 1 0 0 0 1 1 0 0 1 0 0 1 1 1 1 0 1 1 0 0 0 0 1 0 0 0 1 0 1\n",
            " 1 0 0 1 0 0 0 1 0 1 0 0 1 1 1 0 1 0 1 1 1 1 0 0 0 0 1 0 0 1 0 0 1 1 1 1 0\n",
            " 0 0 0 1 0 0 0 1 0 1 0 1 0 1 0 1 1 0 0 1 0 0 0 0 1 0 0 1 0 0 1 1 1 0 1 0 1\n",
            " 0 1 0 0 1 1 0 1 1 0 1 0 0 0 1 0 0 0 1 1 1 1 1 1 1 1 1 0 1 0 1 1 1 1 0 1 1\n",
            " 0 0 1 1 0 1 0 1 1 0 1 1 1 1 0 1 1 0 0 1 0 0 0 1 0 0 0 1 0 0 1 1 0 0 1 0 0\n",
            " 1 0 0 0 1 1 1 0 1 1 0 1 1 0 0 1 0 1 1 0 0 1 1 1 1 1 1 0 1 0 1 1 1 1 0 0 0\n",
            " 1 1 0 0 0 0 0 0 1 0 1 1 1 1 0 0 0 1 0 1 1 0 0 0 0 0 1 0 1 1 1 0 1 0 0 0 1\n",
            " 1 1 1 1 0 0 1 0 1 0 0 1 0 0 1 0 1 1 1 0 1 1 0 1 1 0 1 1 0 1 1 0 1 0 0 0 0\n",
            " 1 1 0 0 1 0 1 0 1 1 0 1 0 1 0 1 1 0 1 0 0 1 1 1 1 1 0 1 1 0 0 1 1 0 1 0 0\n",
            " 1 1 0 1 1 1 1 0 0 1 1 1 1 1 0 0 0 1 0 0 0 1 0 1 0 1 1 0 0 1 1 0 1 0 0 1 1\n",
            " 0 1 0 0 0 1 1 0 1 0 0 0 0 1 1 0 1 1 0 1 0 1 0 0 1 1 1 0 1 0 1 0 1 1 0 1 1\n",
            " 0 0 0 1 1 0 1 0 0 1 0 1 1 1 1 0 0 1 1 0 1 0 0 1 0 1 1 1 0 1 0 0 1 1 0 0 0\n",
            " 0 1 1 0 0 0 1 1 0 1 1 0 0 1 1 0 0 1 1 1 0 1 1 1 1 0 0 0 1 0 0 0 1 0 0 0 1\n",
            " 0 1 0 1 1 0 1 1 1 1 1 0 0 0 0 1 0 0 0 0 0 0 0 1 0 0 0 0 1 0 0 0 0 1 1 0 0\n",
            " 0 1 0 1 0 1 0 1 0 1 1 1 1 1 1 1 0 0 0 0 1 0 0 0 0 0 1 1 0 0 0 0 1 0 1 1 1\n",
            " 0 1 0 1 1 1 1 1 1 0 1 1 0 0 1 1 1 0 0 0 0 0 1 1 0 0 1 0 1 1 1 1 0 0 1 0 0\n",
            " 1 0 1 1 1 1 1 0 1 1 0 1 0 0 1 1 1 0 1 0 0 0 1 1 0 0 1 0 0 0 1 1 1 1 1 1 0\n",
            " 0 1 0 0 0 1 0 0 1 1 1 0 1 1 1 1 0 0 0 1 1 1 1 0 0 1 0 0 0 1 0 0 1 0 0 1 0\n",
            " 1 0 0 1 0 1 1 1 1 1 1 0 1 0 0 0 0 0 0 1 0 0 1 1 0 0 1 0 1 0 1 0 0 1 0 1 1\n",
            " 0 1 1 0 0 1 0 1 1 1 0 1 1 1 0 0 0 0 0 1 1 0 0 0 0 0 1 0 1 0 0 0 1 0 1 0 1\n",
            " 0 0 0 1 1 0 1 0 1 0 1 1 0 0 0 0 1 1 0 0 0 0 1 0 1 0 0 0 0 0 0 0 1 1 1 1 0\n",
            " 0]\n"
          ]
        }
      ]
    },
    {
      "cell_type": "code",
      "source": [
        "len(X), len(y)"
      ],
      "metadata": {
        "colab": {
          "base_uri": "https://localhost:8080/"
        },
        "id": "GxVVo612PpTx",
        "outputId": "4c47b479-193e-43b4-f1a7-ea0d6c61d424"
      },
      "execution_count": null,
      "outputs": [
        {
          "output_type": "execute_result",
          "data": {
            "text/plain": [
              "(1000, 1000)"
            ]
          },
          "metadata": {},
          "execution_count": 11
        }
      ]
    },
    {
      "cell_type": "markdown",
      "source": [
        "A seguir, vamos dividir o conjunto de dados em treinamento e teste com uma proporção de 50-50 (500 observações em cada)."
      ],
      "metadata": {
        "id": "8XJaQ9dn1pPd"
      }
    },
    {
      "cell_type": "markdown",
      "source": [
        "### Train Test Split"
      ],
      "metadata": {
        "id": "JbbEOX8LBzMQ"
      }
    },
    {
      "cell_type": "code",
      "source": [
        "# split into train and test\n",
        "X_train, X_test, y_train, y_test = train_test_split(X, y, test_size=0.50, random_state=1, stratify=y)"
      ],
      "metadata": {
        "id": "JMnaoaQV1ZPC"
      },
      "execution_count": null,
      "outputs": []
    },
    {
      "cell_type": "markdown",
      "source": [
        "Por fim, vamos dividir o conjunto de treinamento novamente em uma porção que possui rótulos e uma porção que não contém, isto é, um conjunto de validação. A propoção seguida foi a mesma da divisão anterior."
      ],
      "metadata": {
        "id": "MMVh9_Kp2EYZ"
      }
    },
    {
      "cell_type": "code",
      "source": [
        "# split train into labeled and unlabeled\n",
        "X_train_lab, X_test_unlab, y_train_lab, y_test_unlab = train_test_split(X_train, y_train, test_size=0.50, random_state=1, stratify=y_train)"
      ],
      "metadata": {
        "id": "PSw6xbh01feT"
      },
      "execution_count": null,
      "outputs": []
    },
    {
      "cell_type": "markdown",
      "source": [
        "Executando a célula de código abaixo, podemos observar que temos apenas 250 observações rotuladas, 250 não rotuladas no conjunto de validação (Unlabeled Train) e 500 no conjunto de teste."
      ],
      "metadata": {
        "id": "XiBA8v5m2rVc"
      }
    },
    {
      "cell_type": "code",
      "source": [
        "# summarize training set size\n",
        "print('Labeled Train Set:', X_train_lab.shape, y_train_lab.shape)\n",
        "print('Unlabeled Train Set:', X_test_unlab.shape, y_test_unlab.shape)\n",
        "# summarize test set size\n",
        "print('Test Set:', X_test.shape, y_test.shape)"
      ],
      "metadata": {
        "colab": {
          "base_uri": "https://localhost:8080/"
        },
        "id": "NfS9fbX91kLa",
        "outputId": "8de2e6d1-888c-429f-85a5-09ec9b5cff8b"
      },
      "execution_count": null,
      "outputs": [
        {
          "output_type": "stream",
          "name": "stdout",
          "text": [
            "Labeled Train Set: (250, 2) (250,)\n",
            "Unlabeled Train Set: (250, 2) (250,)\n",
            "Test Set: (500, 2) (500,)\n"
          ]
        }
      ]
    },
    {
      "cell_type": "markdown",
      "source": [
        "Um algoritmo de aprendizagem semi-supervisionada terá as 250 linhas rotuladas, bem como as 250 linhas não rotuladas, que podem ser usadas de várias maneiras para melhorar o conjunto de dados de treinamento rotulado.\n",
        "\n",
        "Em seguida, podemos estabelecer uma linha de base de desempenho no conjunto de dados de aprendizagem semi-supervisionada usando um algoritmo de aprendizagem supervisionada ajustado apenas nos dados de treinamento rotulados.\n",
        "\n",
        "Isso é importante porque esperamos que um algoritmo de aprendizagem semi-supervisionada supere um algoritmo de aprendizagem supervisionada ajustado apenas nos dados rotulados. Se isso não acontecer, significa que o algoritmo de aprendizagem semi-supervisionada não possui habilidade.\n",
        "\n",
        "Neste caso, usaremos um algoritmo de regressão logística ajustado na parte rotulada do conjunto de dados de treinamento."
      ],
      "metadata": {
        "id": "dcWLRj9_3Sqi"
      }
    },
    {
      "cell_type": "markdown",
      "source": [
        "### Train"
      ],
      "metadata": {
        "id": "u8ZpIUmw3huT"
      }
    },
    {
      "cell_type": "code",
      "source": [
        "# define model\n",
        "model = LogisticRegression()\n",
        "# fit model on labeled dataset\n",
        "model.fit(X_train_lab, y_train_lab)"
      ],
      "metadata": {
        "colab": {
          "base_uri": "https://localhost:8080/",
          "height": 75
        },
        "id": "dWBgdqLw29d3",
        "outputId": "a0383fa0-171c-467c-915c-31f9c8852aaa"
      },
      "execution_count": null,
      "outputs": [
        {
          "output_type": "execute_result",
          "data": {
            "text/plain": [
              "LogisticRegression()"
            ],
            "text/html": [
              "<style>#sk-container-id-1 {color: black;background-color: white;}#sk-container-id-1 pre{padding: 0;}#sk-container-id-1 div.sk-toggleable {background-color: white;}#sk-container-id-1 label.sk-toggleable__label {cursor: pointer;display: block;width: 100%;margin-bottom: 0;padding: 0.3em;box-sizing: border-box;text-align: center;}#sk-container-id-1 label.sk-toggleable__label-arrow:before {content: \"▸\";float: left;margin-right: 0.25em;color: #696969;}#sk-container-id-1 label.sk-toggleable__label-arrow:hover:before {color: black;}#sk-container-id-1 div.sk-estimator:hover label.sk-toggleable__label-arrow:before {color: black;}#sk-container-id-1 div.sk-toggleable__content {max-height: 0;max-width: 0;overflow: hidden;text-align: left;background-color: #f0f8ff;}#sk-container-id-1 div.sk-toggleable__content pre {margin: 0.2em;color: black;border-radius: 0.25em;background-color: #f0f8ff;}#sk-container-id-1 input.sk-toggleable__control:checked~div.sk-toggleable__content {max-height: 200px;max-width: 100%;overflow: auto;}#sk-container-id-1 input.sk-toggleable__control:checked~label.sk-toggleable__label-arrow:before {content: \"▾\";}#sk-container-id-1 div.sk-estimator input.sk-toggleable__control:checked~label.sk-toggleable__label {background-color: #d4ebff;}#sk-container-id-1 div.sk-label input.sk-toggleable__control:checked~label.sk-toggleable__label {background-color: #d4ebff;}#sk-container-id-1 input.sk-hidden--visually {border: 0;clip: rect(1px 1px 1px 1px);clip: rect(1px, 1px, 1px, 1px);height: 1px;margin: -1px;overflow: hidden;padding: 0;position: absolute;width: 1px;}#sk-container-id-1 div.sk-estimator {font-family: monospace;background-color: #f0f8ff;border: 1px dotted black;border-radius: 0.25em;box-sizing: border-box;margin-bottom: 0.5em;}#sk-container-id-1 div.sk-estimator:hover {background-color: #d4ebff;}#sk-container-id-1 div.sk-parallel-item::after {content: \"\";width: 100%;border-bottom: 1px solid gray;flex-grow: 1;}#sk-container-id-1 div.sk-label:hover label.sk-toggleable__label {background-color: #d4ebff;}#sk-container-id-1 div.sk-serial::before {content: \"\";position: absolute;border-left: 1px solid gray;box-sizing: border-box;top: 0;bottom: 0;left: 50%;z-index: 0;}#sk-container-id-1 div.sk-serial {display: flex;flex-direction: column;align-items: center;background-color: white;padding-right: 0.2em;padding-left: 0.2em;position: relative;}#sk-container-id-1 div.sk-item {position: relative;z-index: 1;}#sk-container-id-1 div.sk-parallel {display: flex;align-items: stretch;justify-content: center;background-color: white;position: relative;}#sk-container-id-1 div.sk-item::before, #sk-container-id-1 div.sk-parallel-item::before {content: \"\";position: absolute;border-left: 1px solid gray;box-sizing: border-box;top: 0;bottom: 0;left: 50%;z-index: -1;}#sk-container-id-1 div.sk-parallel-item {display: flex;flex-direction: column;z-index: 1;position: relative;background-color: white;}#sk-container-id-1 div.sk-parallel-item:first-child::after {align-self: flex-end;width: 50%;}#sk-container-id-1 div.sk-parallel-item:last-child::after {align-self: flex-start;width: 50%;}#sk-container-id-1 div.sk-parallel-item:only-child::after {width: 0;}#sk-container-id-1 div.sk-dashed-wrapped {border: 1px dashed gray;margin: 0 0.4em 0.5em 0.4em;box-sizing: border-box;padding-bottom: 0.4em;background-color: white;}#sk-container-id-1 div.sk-label label {font-family: monospace;font-weight: bold;display: inline-block;line-height: 1.2em;}#sk-container-id-1 div.sk-label-container {text-align: center;}#sk-container-id-1 div.sk-container {/* jupyter's `normalize.less` sets `[hidden] { display: none; }` but bootstrap.min.css set `[hidden] { display: none !important; }` so we also need the `!important` here to be able to override the default hidden behavior on the sphinx rendered scikit-learn.org. See: https://github.com/scikit-learn/scikit-learn/issues/21755 */display: inline-block !important;position: relative;}#sk-container-id-1 div.sk-text-repr-fallback {display: none;}</style><div id=\"sk-container-id-1\" class=\"sk-top-container\"><div class=\"sk-text-repr-fallback\"><pre>LogisticRegression()</pre><b>In a Jupyter environment, please rerun this cell to show the HTML representation or trust the notebook. <br />On GitHub, the HTML representation is unable to render, please try loading this page with nbviewer.org.</b></div><div class=\"sk-container\" hidden><div class=\"sk-item\"><div class=\"sk-estimator sk-toggleable\"><input class=\"sk-toggleable__control sk-hidden--visually\" id=\"sk-estimator-id-1\" type=\"checkbox\" checked><label for=\"sk-estimator-id-1\" class=\"sk-toggleable__label sk-toggleable__label-arrow\">LogisticRegression</label><div class=\"sk-toggleable__content\"><pre>LogisticRegression()</pre></div></div></div></div></div>"
            ]
          },
          "metadata": {},
          "execution_count": 19
        }
      ]
    },
    {
      "cell_type": "markdown",
      "source": [
        "### Predictions"
      ],
      "metadata": {
        "id": "FG5Ec37_3jIk"
      }
    },
    {
      "cell_type": "code",
      "source": [
        "# make predictions on hold out test set\n",
        "yhat = model.predict(X_test)"
      ],
      "metadata": {
        "id": "gaH-bxfs31Hs"
      },
      "execution_count": null,
      "outputs": []
    },
    {
      "cell_type": "code",
      "source": [
        "# calculate score for test set\n",
        "score = accuracy_score(y_test, yhat)\n",
        "\n",
        "# summarize score\n",
        "print('Accuracy: %.3f' % (score*100))"
      ],
      "metadata": {
        "colab": {
          "base_uri": "https://localhost:8080/"
        },
        "id": "m41bjy874YxB",
        "outputId": "3e33bcc6-4f26-473b-adab-2f3d57234b18"
      },
      "execution_count": null,
      "outputs": [
        {
          "output_type": "stream",
          "name": "stdout",
          "text": [
            "Accuracy: 84.800\n"
          ]
        }
      ]
    },
    {
      "cell_type": "markdown",
      "source": [
        "## 3 Label Propagation for Semi-Supervised Learning"
      ],
      "metadata": {
        "id": "ik5UqxS0BG9-"
      }
    },
    {
      "cell_type": "markdown",
      "source": [
        "O algoritmo de Propagação de Rótulos está disponível na biblioteca de aprendizado de máquina em Python, scikit-learn, por meio da classe [LabelPropagation](https://scikit-learn.org/stable/modules/generated/sklearn.semi_supervised.LabelPropagation.html).\n",
        "\n",
        "O modelo pode ser ajustado da mesma forma que qualquer outro modelo de classificação, chamando a função `fit()`, e pode ser usado para fazer previsões para novos dados por meio da função `predict()`."
      ],
      "metadata": {
        "id": "__XgBKyrBUvo"
      }
    },
    {
      "cell_type": "markdown",
      "source": [
        "### Import Libraries"
      ],
      "metadata": {
        "id": "NbsZPJiODL3d"
      }
    },
    {
      "cell_type": "code",
      "source": [
        "# import librarires\n",
        "from numpy import concatenate\n",
        "from sklearn.datasets import make_classification\n",
        "from sklearn.model_selection import train_test_split\n",
        "from sklearn.metrics import accuracy_score\n",
        "from sklearn.semi_supervised import LabelPropagation"
      ],
      "metadata": {
        "id": "5rz4Xd8RBIBV"
      },
      "execution_count": null,
      "outputs": []
    },
    {
      "cell_type": "markdown",
      "source": [
        "### Importação dos dados"
      ],
      "metadata": {
        "id": "xUCWSt6-M3j3"
      }
    },
    {
      "cell_type": "code",
      "source": [
        "# define dataset\n",
        "X, y = make_classification(n_samples=1000, n_features=2, n_informative=2, n_redundant=0, random_state=1)"
      ],
      "metadata": {
        "id": "K2fn4nODDSYE"
      },
      "execution_count": null,
      "outputs": []
    },
    {
      "cell_type": "markdown",
      "source": [
        "### Train Test Split"
      ],
      "metadata": {
        "id": "aMWFkNItM6NQ"
      }
    },
    {
      "cell_type": "code",
      "source": [
        "# split into train and test\n",
        "X_train, X_test, y_train, y_test = train_test_split(X, y, test_size=0.50, random_state=1, stratify=y)\n",
        "# split train into labeled and unlabeled\n",
        "X_train_lab, X_test_unlab, y_train_lab, y_test_unlab = train_test_split(X_train, y_train, test_size=0.50, random_state=1, stratify=y_train)"
      ],
      "metadata": {
        "id": "aKhpfYBnM8EU"
      },
      "execution_count": null,
      "outputs": []
    },
    {
      "cell_type": "markdown",
      "source": [
        "### Preparação dos dados"
      ],
      "metadata": {
        "id": "cs8PrmsANdl8"
      }
    },
    {
      "cell_type": "markdown",
      "source": [
        "Primeiro, nós precisamos concatenar os dados de treinamento com e se rótulo em apenas um array."
      ],
      "metadata": {
        "id": "oMAFZk7KNhD2"
      }
    },
    {
      "cell_type": "code",
      "source": [
        "# create the training dataset input\n",
        "X_train_mixed = concatenate((X_train_lab, X_test_unlab))"
      ],
      "metadata": {
        "id": "asoN5-xxNgBQ"
      },
      "execution_count": null,
      "outputs": []
    },
    {
      "cell_type": "markdown",
      "source": [
        "Para os dados sem rótulo, nós podemos atribuir o valor -1, por exemplo, e concatenar no `y_train_lab`."
      ],
      "metadata": {
        "id": "VamXB1uGNyP9"
      }
    },
    {
      "cell_type": "code",
      "source": [
        "# create \"no label\" for unlabeled data\n",
        "nolabel = [-1 for _ in range(len(y_test_unlab))]\n",
        "\n",
        "# recombine training dataset labels\n",
        "y_train_mixed = concatenate((y_train_lab, nolabel))"
      ],
      "metadata": {
        "id": "TriXPRGtN2yQ"
      },
      "execution_count": null,
      "outputs": []
    },
    {
      "cell_type": "markdown",
      "source": [
        "### Treinamento"
      ],
      "metadata": {
        "id": "Pj9mHJJWOKp9"
      }
    },
    {
      "cell_type": "code",
      "source": [
        "# define model\n",
        "model = LabelPropagation()\n",
        "# fit model on training dataset\n",
        "model.fit(X_train_mixed, y_train_mixed)"
      ],
      "metadata": {
        "colab": {
          "base_uri": "https://localhost:8080/",
          "height": 75
        },
        "id": "2XHHLoloONLP",
        "outputId": "e2b9dbd5-5784-4212-b6dd-6975dd55a10a"
      },
      "execution_count": null,
      "outputs": [
        {
          "output_type": "execute_result",
          "data": {
            "text/plain": [
              "LabelPropagation()"
            ],
            "text/html": [
              "<style>#sk-container-id-2 {color: black;background-color: white;}#sk-container-id-2 pre{padding: 0;}#sk-container-id-2 div.sk-toggleable {background-color: white;}#sk-container-id-2 label.sk-toggleable__label {cursor: pointer;display: block;width: 100%;margin-bottom: 0;padding: 0.3em;box-sizing: border-box;text-align: center;}#sk-container-id-2 label.sk-toggleable__label-arrow:before {content: \"▸\";float: left;margin-right: 0.25em;color: #696969;}#sk-container-id-2 label.sk-toggleable__label-arrow:hover:before {color: black;}#sk-container-id-2 div.sk-estimator:hover label.sk-toggleable__label-arrow:before {color: black;}#sk-container-id-2 div.sk-toggleable__content {max-height: 0;max-width: 0;overflow: hidden;text-align: left;background-color: #f0f8ff;}#sk-container-id-2 div.sk-toggleable__content pre {margin: 0.2em;color: black;border-radius: 0.25em;background-color: #f0f8ff;}#sk-container-id-2 input.sk-toggleable__control:checked~div.sk-toggleable__content {max-height: 200px;max-width: 100%;overflow: auto;}#sk-container-id-2 input.sk-toggleable__control:checked~label.sk-toggleable__label-arrow:before {content: \"▾\";}#sk-container-id-2 div.sk-estimator input.sk-toggleable__control:checked~label.sk-toggleable__label {background-color: #d4ebff;}#sk-container-id-2 div.sk-label input.sk-toggleable__control:checked~label.sk-toggleable__label {background-color: #d4ebff;}#sk-container-id-2 input.sk-hidden--visually {border: 0;clip: rect(1px 1px 1px 1px);clip: rect(1px, 1px, 1px, 1px);height: 1px;margin: -1px;overflow: hidden;padding: 0;position: absolute;width: 1px;}#sk-container-id-2 div.sk-estimator {font-family: monospace;background-color: #f0f8ff;border: 1px dotted black;border-radius: 0.25em;box-sizing: border-box;margin-bottom: 0.5em;}#sk-container-id-2 div.sk-estimator:hover {background-color: #d4ebff;}#sk-container-id-2 div.sk-parallel-item::after {content: \"\";width: 100%;border-bottom: 1px solid gray;flex-grow: 1;}#sk-container-id-2 div.sk-label:hover label.sk-toggleable__label {background-color: #d4ebff;}#sk-container-id-2 div.sk-serial::before {content: \"\";position: absolute;border-left: 1px solid gray;box-sizing: border-box;top: 0;bottom: 0;left: 50%;z-index: 0;}#sk-container-id-2 div.sk-serial {display: flex;flex-direction: column;align-items: center;background-color: white;padding-right: 0.2em;padding-left: 0.2em;position: relative;}#sk-container-id-2 div.sk-item {position: relative;z-index: 1;}#sk-container-id-2 div.sk-parallel {display: flex;align-items: stretch;justify-content: center;background-color: white;position: relative;}#sk-container-id-2 div.sk-item::before, #sk-container-id-2 div.sk-parallel-item::before {content: \"\";position: absolute;border-left: 1px solid gray;box-sizing: border-box;top: 0;bottom: 0;left: 50%;z-index: -1;}#sk-container-id-2 div.sk-parallel-item {display: flex;flex-direction: column;z-index: 1;position: relative;background-color: white;}#sk-container-id-2 div.sk-parallel-item:first-child::after {align-self: flex-end;width: 50%;}#sk-container-id-2 div.sk-parallel-item:last-child::after {align-self: flex-start;width: 50%;}#sk-container-id-2 div.sk-parallel-item:only-child::after {width: 0;}#sk-container-id-2 div.sk-dashed-wrapped {border: 1px dashed gray;margin: 0 0.4em 0.5em 0.4em;box-sizing: border-box;padding-bottom: 0.4em;background-color: white;}#sk-container-id-2 div.sk-label label {font-family: monospace;font-weight: bold;display: inline-block;line-height: 1.2em;}#sk-container-id-2 div.sk-label-container {text-align: center;}#sk-container-id-2 div.sk-container {/* jupyter's `normalize.less` sets `[hidden] { display: none; }` but bootstrap.min.css set `[hidden] { display: none !important; }` so we also need the `!important` here to be able to override the default hidden behavior on the sphinx rendered scikit-learn.org. See: https://github.com/scikit-learn/scikit-learn/issues/21755 */display: inline-block !important;position: relative;}#sk-container-id-2 div.sk-text-repr-fallback {display: none;}</style><div id=\"sk-container-id-2\" class=\"sk-top-container\"><div class=\"sk-text-repr-fallback\"><pre>LabelPropagation()</pre><b>In a Jupyter environment, please rerun this cell to show the HTML representation or trust the notebook. <br />On GitHub, the HTML representation is unable to render, please try loading this page with nbviewer.org.</b></div><div class=\"sk-container\" hidden><div class=\"sk-item\"><div class=\"sk-estimator sk-toggleable\"><input class=\"sk-toggleable__control sk-hidden--visually\" id=\"sk-estimator-id-2\" type=\"checkbox\" checked><label for=\"sk-estimator-id-2\" class=\"sk-toggleable__label sk-toggleable__label-arrow\">LabelPropagation</label><div class=\"sk-toggleable__content\"><pre>LabelPropagation()</pre></div></div></div></div></div>"
            ]
          },
          "metadata": {},
          "execution_count": 27
        }
      ]
    },
    {
      "cell_type": "markdown",
      "source": [
        "### Predictions"
      ],
      "metadata": {
        "id": "jVs2n2JcOTmM"
      }
    },
    {
      "cell_type": "code",
      "source": [
        "# make predictions on hold out test set\n",
        "yhat = model.predict(X_test)\n",
        "# calculate score for test set\n",
        "score = accuracy_score(y_test, yhat)\n",
        "# summarize score\n",
        "print('Accuracy: %.3f' % (score*100))"
      ],
      "metadata": {
        "colab": {
          "base_uri": "https://localhost:8080/"
        },
        "id": "YunCK_LEONd8",
        "outputId": "c378deb1-21de-4379-94bb-cb7853e27a9f"
      },
      "execution_count": null,
      "outputs": [
        {
          "output_type": "stream",
          "name": "stdout",
          "text": [
            "Accuracy: 85.600\n"
          ]
        }
      ]
    },
    {
      "cell_type": "markdown",
      "source": [
        "### Combinando os dois modelos"
      ],
      "metadata": {
        "id": "CknlQ6DpOvPX"
      }
    },
    {
      "cell_type": "markdown",
      "source": [
        "Outra abordagem que podemos usar com o modelo semi-supervisionado é tomar os rótulos estimados para o conjunto de dados de treinamento e ajustar um modelo de aprendizado supervisionado.\n",
        "\n",
        "Lembrando que podemos recuperar os rótulos para todo o conjunto de dados de treinamento a partir do modelo de propagação de rótulos da seguinte maneira:"
      ],
      "metadata": {
        "id": "TiWwx7mJOx4V"
      }
    },
    {
      "cell_type": "code",
      "source": [
        "# get labels for entire training dataset data\n",
        "tran_labels = model.transduction_"
      ],
      "metadata": {
        "id": "rSYQSfSOPFmp"
      },
      "execution_count": null,
      "outputs": []
    },
    {
      "cell_type": "markdown",
      "source": [
        "Em seguida, podemos usar esses rótulos juntamente com todos os dados de entrada para treinar e avaliar um algoritmo de aprendizado supervisionado, como um modelo de regressão logística.\n",
        "\n",
        "A esperança é que o modelo de aprendizado supervisionado ajustado em todo o conjunto de dados de treinamento alcance um desempenho ainda melhor do que o modelo de aprendizado semi-supervisionado sozinho."
      ],
      "metadata": {
        "id": "jJWv3mz-PMgm"
      }
    },
    {
      "cell_type": "code",
      "source": [
        "# define supervised learning model\n",
        "model2 = LogisticRegression()\n",
        "# fit supervised learning model on entire training dataset\n",
        "model2.fit(X_train_mixed, tran_labels)\n",
        "# make predictions on hold out test set\n",
        "yhat = model2.predict(X_test)\n",
        "# calculate score for test set\n",
        "score = accuracy_score(y_test, yhat)\n",
        "# summarize score\n",
        "print('Accuracy: %.3f' % (score*100))"
      ],
      "metadata": {
        "colab": {
          "base_uri": "https://localhost:8080/"
        },
        "id": "ChOzt5WvOxag",
        "outputId": "c3f62283-5a46-48ec-a922-6646bcb928f3"
      },
      "execution_count": null,
      "outputs": [
        {
          "output_type": "stream",
          "name": "stdout",
          "text": [
            "Accuracy: 86.200\n"
          ]
        }
      ]
    },
    {
      "cell_type": "markdown",
      "source": [
        "Nesse caso, podemos observar que essa abordagem hierárquica do modelo semi-supervisionado seguido pelo modelo supervisionado alcança uma precisão de classificação de cerca de 86,2% no conjunto de dados de teste, ainda melhor do que o aprendizado semi-supervisionado utilizado isoladamente, que obteve uma precisão de cerca de 85,6%."
      ],
      "metadata": {
        "id": "saKQHhYrQU2q"
      }
    }
  ]
}