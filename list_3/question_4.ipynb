{
  "nbformat": 4,
  "nbformat_minor": 0,
  "metadata": {
    "colab": {
      "provenance": []
    },
    "kernelspec": {
      "name": "python3",
      "display_name": "Python 3"
    },
    "language_info": {
      "name": "python"
    }
  },
  "cells": [
    {
      "cell_type": "markdown",
      "source": [
        "# Question 4"
      ],
      "metadata": {
        "id": "MSDWipI52NYm"
      }
    },
    {
      "cell_type": "markdown",
      "source": [
        "Pesquise e apresente uma trabalho sobre a Rede ART (Adaptive Resonamce Theory) ou Rede de Grossberg."
      ],
      "metadata": {
        "id": "kcW1zTRq2P7Y"
      }
    },
    {
      "cell_type": "markdown",
      "source": [
        "Authors: \n",
        "  - [Morsinaldo de Azevedo Medeiros](https://github.com/Morsinaldo)\n",
        "  - [Thaís de Araújo de Medeiros](https://github.com/thaisaraujo2000)"
      ],
      "metadata": {
        "id": "iybYvd6l2WId"
      }
    },
    {
      "cell_type": "markdown",
      "source": [
        "*Customer Relationship Management using Adaptive\n",
        "Resonance Theory*\n",
        "\n",
        "Source: https://citeseerx.ist.psu.edu/document?repid=rep1&type=pdf&doi=8883ef3bf2e5e21f0cfd77af1d06d21e7ea930aa\n"
      ],
      "metadata": {
        "id": "7LaS2Zqp70ie"
      }
    },
    {
      "cell_type": "markdown",
      "source": [
        "O artigo discute o uso da Teoria da Ressonância Adaptativa (ART) como uma técnica de mineração de dados para a classificação de clientes no Customer Relationship Management (CRM). Além disso, destaca-se a importância do CRM como uma abordagem abrangente para gerenciar todas as interações entre a empresa e os clientes, baseada em dados de qualidade e habilitada pela tecnologia da informação.\n",
        "\n",
        "A Teoria da Ressonância Adaptativa (ART) é uma técnica diferenciada de mineração de dados que resolve o dilema entre estabilidade e plasticidade. Ela permite que o sistema de aprendizado preserve o conhecimento anteriormente adquirido, ao mesmo tempo em que é capaz de aprender novos padrões. A arquitetura do ART se auto-organiza em tempo real, garantindo reconhecimento estável e capturando padrões além dos armazenados inicialmente. Essas características fundamentais do ART tornam-no adequado para a classificação de clientes no contexto do CRM.\n",
        "\n",
        "No estudo realizado, foi aplicado o algoritmo ART1 para a classificação de clientes com base em suas escolhas, utilizando um banco de dados de uma empresa de vendas de veículos. O desempenho do algoritmo ART1 foi comparado ao algoritmo de retropropagação, demonstrando que o ART1 supera a retropropagação na classificação de clientes.\n",
        "\n",
        "Esses resultados confirmam que o ART1 é uma ferramenta eficaz para a classificação de clientes no CRM. Ele oferece uma abordagem mais robusta e precisa, permitindo uma compreensão mais aprofundada do comportamento do cliente. Portanto, a aplicação do ART1 como técnica de mineração de dados no CRM apresenta um potencial significativo para melhorar a classificação de clientes e aprimorar as estratégias de relacionamento com o cliente."
      ],
      "metadata": {
        "id": "9jMyu_V17yl4"
      }
    }
  ]
}