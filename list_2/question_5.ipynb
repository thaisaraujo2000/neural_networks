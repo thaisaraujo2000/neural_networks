{
 "cells": [
  {
   "cell_type": "markdown",
   "metadata": {
    "id": "9eal6rHnmHNG"
   },
   "source": [
    "# Question 5"
   ]
  },
  {
   "cell_type": "markdown",
   "metadata": {
    "id": "8d91kIpjlXRk"
   },
   "source": [
    "A aprendizagem por reforço profundo é uma abordagem de inteligência artificial que visa ensinar um \"Agente\" (como um programa de computador ou algoritmo) a interagir com um \"Ambiente\" executando \"Ações\" para alcançar um objetivo específico. O agente recebe \"Recompensas\" (positivas) ou \"Punições\" (negativas) com base em suas ações, e, ao longo do tempo, aprende quais ações são mais adequadas para maximizar as recompensas e alcançar o objetivo. Ela é fundamentada na teoria dos processos de decisão de Markov (MDP, do inglês Markov Decision Process), que é uma abordagem matemática para modelar problemas de tomada de decisão em situações de incerteza. Os MDPs fornecem uma estrutura formal para descrever os componentes-chave do aprendizado por reforço, como estados, ações, recompensas e transições de estado.\n",
    "\n",
    "Em um MDP, a suposição básica é que o ambiente possui a \"propriedade de Markov\", o que significa que o estado atual do ambiente contém todas as informações necessárias para prever o próximo estado e a recompensa associada, independentemente dos estados e ações anteriores. Em outras palavras, o futuro é condicionalmente independente do passado, dado o presente."
   ]
  },
  {
   "cell_type": "markdown",
   "metadata": {
    "id": "dTemxtn0rJiP"
   },
   "source": [
    "### **Projeto Malmo**: _usando Minecraft para construir tecnologias mais inteligentes_\n",
    "<p align='center'>\n",
    "  <img src='https://drive.google.com/uc?id=14F2dg1ZgqsaiJE82tOKJ7LC457NQMxYn'>\n",
    "</p>\n",
    "\n",
    "Sobre o projeto: https://www.microsoft.com/en-us/research/project/project-malmo/\n",
    "\n",
    "Repositório: https://github.com/Microsoft/malmo#getting-started\n",
    "\n",
    "Pesquisadores da Microsoft veem o jogo Minecraft como uma ambiente ideal para realizar testes para pesquisa avançada de inteligência artificial, uma vez que ele conta com um ambiente com infinitas possibilidades, permitindo com que o agente aprenda inúmeras tarefas que em um mundo real não poderiam ser testadas, como:\n",
    "\n",
    "- Ensiná-lo a escalar uma colina real\n",
    "- Aprender a se locomover por conta própria sem cair de uma colina ou em um poço de lava\n",
    "- Construir coisas, como uma mesa\n",
    "- Navegar por labirintos\n",
    "> A plataforma Minecraft foi especialmente atraente porque permite aos jogadores tomar decisões realmente complexas que têm consequências e adicionar elementos cada vez mais difíceis à medida que melhoram. Ele também permite que os usuários trabalhem juntos, o que pode ajudar os pesquisadores a experimentar como humanos e agentes artificialmente inteligentes podem trabalhar juntos."
   ]
  }
 ],
 "metadata": {
  "colab": {
   "collapsed_sections": [
    "dWCApwC2hmqy",
    "9l7K9GMHmWcG"
   ],
   "provenance": []
  },
  "kernelspec": {
   "display_name": "Python 3 (ipykernel)",
   "language": "python",
   "name": "python3"
  },
  "language_info": {
   "codemirror_mode": {
    "name": "ipython",
    "version": 3
   },
   "file_extension": ".py",
   "mimetype": "text/x-python",
   "name": "python",
   "nbconvert_exporter": "python",
   "pygments_lexer": "ipython3",
   "version": "3.9.12"
  },
  "vscode": {
   "interpreter": {
    "hash": "fe10ed500307775077c8f6c729b8a9db7ab38f92d0a4d9c1df436ac330ec1cd0"
   }
  }
 },
 "nbformat": 4,
 "nbformat_minor": 1
}
