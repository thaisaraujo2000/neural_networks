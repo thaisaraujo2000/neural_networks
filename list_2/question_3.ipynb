{
  "cells": [
    {
      "cell_type": "markdown",
      "metadata": {
        "id": "aW9PTw7QtZtt"
      },
      "source": [
        "# Question 3 [Next word prediction using LSTM]\n",
        "\n",
        "Source: [IG Tech Team](https://www.youtube.com/watch?v=VB7bbFIEAhk&ab_channel=IGTechTeam)"
      ]
    },
    {
      "cell_type": "code",
      "execution_count": null,
      "metadata": {
        "id": "Mt8BFTdx1hG6"
      },
      "outputs": [],
      "source": [
        "from sklearn.metrics import classification_report, confusion_matrix, ConfusionMatrixDisplay\n",
        "from sklearn.preprocessing import MultiLabelBinarizer\n",
        "from sklearn.model_selection import train_test_split\n",
        "from sklearn.datasets import make_blobs\n",
        "\n",
        "\n",
        "from tensorflow.keras import datasets, layers, models\n",
        "from tensorflow.keras.layers import Input, UpSampling2D, Conv2D, Dense, Bidirectional, ZeroPadding2D,LeakyReLU, Reshape, Flatten, Dropout, Activation, BatchNormalization, LSTM, Embedding, GlobalAveragePooling2D, BatchNormalization, MaxPool2D, Conv2D, SpatialDropout2D\n",
        "from tensorflow.keras.callbacks import EarlyStopping, ReduceLROnPlateau, ModelCheckpoint \n",
        "from tensorflow.keras.preprocessing.sequence import TimeseriesGenerator\n",
        "from tensorflow.keras.applications import ResNet50\n",
        "from tensorflow.keras.optimizers import  Adam\n",
        "\n",
        "from tensorflow.keras.datasets import cifar10, fashion_mnist\n",
        "from tensorflow.keras.models import Model, load_model\n",
        "from tensorflow.keras import Sequential\n",
        "import tensorflow as tf\n",
        "from tensorflow.keras.preprocessing.text import Tokenizer\n",
        "from tensorflow.keras.preprocessing.image import ImageDataGenerator\n",
        "from tensorflow.keras.preprocessing import image\n",
        "\n",
        "from tensorflow.keras.utils import to_categorical\n",
        "from tensorflow.keras.optimizers import Adam\n",
        "import pickle\n",
        "import os\n",
        "\n",
        "from tensorflow import keras\n",
        "from keras.utils.vis_utils import plot_model"
      ]
    },
    {
      "cell_type": "code",
      "source": [
        "from tensorflow.keras.preprocessing.text import Tokenizer\n",
        "from tensorflow.keras.utils import to_categorical\n",
        "from tensorflow.keras.preprocessing.sequence import TimeseriesGenerator\n",
        "from tensorflow.keras.callbacks import ModelCheckpoint \n",
        "from tensorflow.keras import Sequential\n",
        "from tensorflow import keras\n",
        "from tensorflow.keras.layers import Embedding, LSTM, Dense\n",
        "from tensorflow.keras.optimizers import  Adam\n",
        "from tensorflow.keras.models import Model, load_model\n",
        "import pickle\n",
        "import numpy as np"
      ],
      "metadata": {
        "id": "KE9YU_4MwfvJ"
      },
      "execution_count": null,
      "outputs": []
    },
    {
      "cell_type": "markdown",
      "metadata": {
        "id": "J-6iqfSR3NsC"
      },
      "source": [
        "### Download the file"
      ]
    },
    {
      "cell_type": "code",
      "execution_count": null,
      "metadata": {
        "colab": {
          "base_uri": "https://localhost:8080/"
        },
        "id": "OtbMwsEwA5Ay",
        "outputId": "1861af50-ac9b-4284-fde1-1cde34d3f878"
      },
      "outputs": [
        {
          "output_type": "stream",
          "name": "stdout",
          "text": [
            "Downloading...\n",
            "From: https://drive.google.com/uc?id=16YVKFWB3yZxs5WoKRnmIz4CBbSxSi3ue\n",
            "To: /content/book_pride_and_prejudice.txt\n",
            "\r  0% 0.00/725k [00:00<?, ?B/s]\r100% 725k/725k [00:00<00:00, 136MB/s]\n"
          ]
        }
      ],
      "source": [
        "!gdown https://drive.google.com/uc?id=16YVKFWB3yZxs5WoKRnmIz4CBbSxSi3ue"
      ]
    },
    {
      "cell_type": "markdown",
      "metadata": {
        "id": "meVqZmpB5w2z"
      },
      "source": [
        "### Open and preprocess the data"
      ]
    },
    {
      "cell_type": "code",
      "execution_count": null,
      "metadata": {
        "colab": {
          "base_uri": "https://localhost:8080/",
          "height": 70
        },
        "id": "CImldW7I3TJV",
        "outputId": "ab633da8-5071-4b13-8df8-84536a1bef2f"
      },
      "outputs": [
        {
          "output_type": "execute_result",
          "data": {
            "text/plain": [
              "'The Project Gutenberg eBook, Pride and Prejudice, by Jane Austen, Edited by R. W. (Robert William) Chapman This eBook is for the use of anyone anywhere at no cost and with almost no restrictions whatsoever. You may copy it, give it away or re-use it under the terms of the Project Gutenberg License included with this eBook or online at www.gutenberg.org Title: Pride and Prejudice Author: Jane Austen Editor: R. W. (Robert William) Chapman Release Date: May 9, 2013 [eBook #42671] Language: English '"
            ],
            "application/vnd.google.colaboratory.intrinsic+json": {
              "type": "string"
            }
          },
          "metadata": {},
          "execution_count": 8
        }
      ],
      "source": [
        "file = open(\"book_pride_and_prejudice.txt\", \"r\", encoding = \"utf8\")\n",
        "\n",
        "# store file in list\n",
        "lines = []\n",
        "for i in file:\n",
        "    lines.append(i)\n",
        "\n",
        "# convert list to string\n",
        "data = \"\"\n",
        "for i in lines:\n",
        "  data = ' '. join(lines) \n",
        "\n",
        "#replace unnecessary stuff with space\n",
        "data = data.replace('\\n', '').replace('\\r', '').replace('\\ufeff', '').replace('“','').replace('”','')  #new line, carriage return, unicode character --> replace by space\n",
        "\n",
        "#remove unnecessary spaces \n",
        "data = data.split()\n",
        "data = ' '.join(data)\n",
        "data[:500]"
      ]
    },
    {
      "cell_type": "code",
      "execution_count": null,
      "metadata": {
        "colab": {
          "base_uri": "https://localhost:8080/"
        },
        "id": "VUj2I8BS51Fa",
        "outputId": "2ace449d-0214-4bf6-efc7-59d26361bbd7"
      },
      "outputs": [
        {
          "output_type": "execute_result",
          "data": {
            "text/plain": [
              "704792"
            ]
          },
          "metadata": {},
          "execution_count": 9
        }
      ],
      "source": [
        "len(data)"
      ]
    },
    {
      "cell_type": "markdown",
      "metadata": {
        "id": "Z2bh7v-16DDt"
      },
      "source": [
        "### Apply tokenization and some other changes"
      ]
    },
    {
      "cell_type": "code",
      "execution_count": null,
      "metadata": {
        "colab": {
          "base_uri": "https://localhost:8080/"
        },
        "id": "Zl24lbh_525f",
        "outputId": "a023d262-37e6-4f17-c519-d241782528ec"
      },
      "outputs": [
        {
          "output_type": "execute_result",
          "data": {
            "text/plain": [
              "[1, 178, 157, 1173, 290, 4, 877, 30, 73, 3195, 4176, 30, 3196, 2163, 3197]"
            ]
          },
          "metadata": {},
          "execution_count": 10
        }
      ],
      "source": [
        "tokenizer = Tokenizer()\n",
        "tokenizer.fit_on_texts([data])\n",
        "\n",
        "# saving the tokenizer for predict function\n",
        "pickle.dump(tokenizer, open('token.pkl', 'wb'))\n",
        "\n",
        "sequence_data = tokenizer.texts_to_sequences([data])[0]\n",
        "sequence_data[:15]"
      ]
    },
    {
      "cell_type": "code",
      "execution_count": null,
      "metadata": {
        "colab": {
          "base_uri": "https://localhost:8080/"
        },
        "id": "aKHHXTNJ529T",
        "outputId": "8ad58426-cad4-404c-974c-2d8b960e4d03"
      },
      "outputs": [
        {
          "output_type": "execute_result",
          "data": {
            "text/plain": [
              "126018"
            ]
          },
          "metadata": {},
          "execution_count": 11
        }
      ],
      "source": [
        "len(sequence_data)"
      ]
    },
    {
      "cell_type": "code",
      "execution_count": null,
      "metadata": {
        "colab": {
          "base_uri": "https://localhost:8080/"
        },
        "id": "HZH7vQWX555N",
        "outputId": "12625d4d-4577-4503-84c3-13c37acc79a8"
      },
      "outputs": [
        {
          "output_type": "stream",
          "name": "stdout",
          "text": [
            "6736\n"
          ]
        }
      ],
      "source": [
        "vocab_size = len(tokenizer.word_index) + 1\n",
        "print(vocab_size)"
      ]
    },
    {
      "cell_type": "code",
      "execution_count": null,
      "metadata": {
        "colab": {
          "base_uri": "https://localhost:8080/"
        },
        "id": "R_eCH1Ox57dn",
        "outputId": "5c110758-f541-424c-d035-c9dce54332c8"
      },
      "outputs": [
        {
          "output_type": "stream",
          "name": "stdout",
          "text": [
            "The Length of sequences are:  126015\n"
          ]
        },
        {
          "output_type": "execute_result",
          "data": {
            "text/plain": [
              "array([[   1,  178,  157, 1173],\n",
              "       [ 178,  157, 1173,  290],\n",
              "       [ 157, 1173,  290,    4],\n",
              "       [1173,  290,    4,  877],\n",
              "       [ 290,    4,  877,   30],\n",
              "       [   4,  877,   30,   73],\n",
              "       [ 877,   30,   73, 3195],\n",
              "       [  30,   73, 3195, 4176],\n",
              "       [  73, 3195, 4176,   30],\n",
              "       [3195, 4176,   30, 3196]])"
            ]
          },
          "metadata": {},
          "execution_count": 15
        }
      ],
      "source": [
        "sequences = []\n",
        "\n",
        "for i in range(3, len(sequence_data)):\n",
        "    words = sequence_data[i-3:i+1]\n",
        "    sequences.append(words)\n",
        "    \n",
        "print(\"The Length of sequences are: \", len(sequences))\n",
        "sequences = np.array(sequences)\n",
        "sequences[:10]"
      ]
    },
    {
      "cell_type": "code",
      "execution_count": null,
      "metadata": {
        "id": "zgmqMUoH59AJ"
      },
      "outputs": [],
      "source": [
        "X = []\n",
        "y = []\n",
        "\n",
        "for i in sequences:\n",
        "    X.append(i[0:3])\n",
        "    y.append(i[3])\n",
        "    \n",
        "X = np.array(X)\n",
        "y = np.array(y)"
      ]
    },
    {
      "cell_type": "code",
      "execution_count": null,
      "metadata": {
        "colab": {
          "base_uri": "https://localhost:8080/"
        },
        "id": "yGgqZXWE5_6t",
        "outputId": "57b1e610-8f05-40cd-c0d4-689f1f911fe7"
      },
      "outputs": [
        {
          "output_type": "stream",
          "name": "stdout",
          "text": [
            "Data:  [[   1  178  157]\n",
            " [ 178  157 1173]\n",
            " [ 157 1173  290]\n",
            " [1173  290    4]\n",
            " [ 290    4  877]\n",
            " [   4  877   30]\n",
            " [ 877   30   73]\n",
            " [  30   73 3195]\n",
            " [  73 3195 4176]\n",
            " [3195 4176   30]]\n",
            "Response:  [1173  290    4  877   30   73 3195 4176   30 3196]\n"
          ]
        }
      ],
      "source": [
        "print(\"Data: \", X[:10])\n",
        "print(\"Response: \", y[:10])"
      ]
    },
    {
      "cell_type": "code",
      "execution_count": null,
      "metadata": {
        "colab": {
          "base_uri": "https://localhost:8080/"
        },
        "id": "Gs9TKDLW6AEs",
        "outputId": "7ca720dc-9f61-45a7-d176-82b8342a4e97"
      },
      "outputs": [
        {
          "output_type": "execute_result",
          "data": {
            "text/plain": [
              "array([[0., 0., 0., ..., 0., 0., 0.],\n",
              "       [0., 0., 0., ..., 0., 0., 0.],\n",
              "       [0., 0., 0., ..., 0., 0., 0.],\n",
              "       [0., 0., 0., ..., 0., 0., 0.],\n",
              "       [0., 0., 0., ..., 0., 0., 0.]], dtype=float32)"
            ]
          },
          "metadata": {},
          "execution_count": 20
        }
      ],
      "source": [
        "y = to_categorical(y, num_classes=vocab_size)\n",
        "y[:5]"
      ]
    },
    {
      "cell_type": "markdown",
      "metadata": {
        "id": "f-ImER2C6MJT"
      },
      "source": [
        "### Creating the model"
      ]
    },
    {
      "cell_type": "code",
      "execution_count": null,
      "metadata": {
        "id": "N6XjyIZD6M7m"
      },
      "outputs": [],
      "source": [
        "model = Sequential()\n",
        "model.add(Embedding(vocab_size, 10, input_length=3))\n",
        "model.add(LSTM(1000, return_sequences=True))\n",
        "model.add(LSTM(1000))\n",
        "model.add(Dense(1000, activation=\"relu\"))\n",
        "model.add(Dense(vocab_size, activation=\"softmax\"))"
      ]
    },
    {
      "cell_type": "code",
      "execution_count": null,
      "metadata": {
        "colab": {
          "base_uri": "https://localhost:8080/"
        },
        "id": "mHUOQRSm6PHb",
        "outputId": "10056eb6-018c-4ba2-8353-3f6560fb955b"
      },
      "outputs": [
        {
          "output_type": "stream",
          "name": "stdout",
          "text": [
            "Model: \"sequential_3\"\n",
            "_________________________________________________________________\n",
            " Layer (type)                Output Shape              Param #   \n",
            "=================================================================\n",
            " embedding_2 (Embedding)     (None, 3, 10)             67360     \n",
            "                                                                 \n",
            " lstm_2 (LSTM)               (None, 3, 1000)           4044000   \n",
            "                                                                 \n",
            " lstm_3 (LSTM)               (None, 1000)              8004000   \n",
            "                                                                 \n",
            " dense (Dense)               (None, 1000)              1001000   \n",
            "                                                                 \n",
            " dense_1 (Dense)             (None, 6736)              6742736   \n",
            "                                                                 \n",
            "=================================================================\n",
            "Total params: 19,859,096\n",
            "Trainable params: 19,859,096\n",
            "Non-trainable params: 0\n",
            "_________________________________________________________________\n"
          ]
        }
      ],
      "source": [
        "model.summary()"
      ]
    },
    {
      "cell_type": "markdown",
      "metadata": {
        "id": "eIPN85_g8Qyj"
      },
      "source": [
        "### Plot the model"
      ]
    },
    {
      "cell_type": "code",
      "execution_count": null,
      "metadata": {
        "colab": {
          "base_uri": "https://localhost:8080/",
          "height": 564
        },
        "id": "cvWkauND6SvH",
        "outputId": "51be4782-4413-46dd-f51a-6c536c0193e3"
      },
      "outputs": [
        {
          "output_type": "execute_result",
          "data": {
            "image/png": "[encoded data removed]",
            "text/plain": [
              "<IPython.core.display.Image object>"
            ]
          },
          "metadata": {},
          "execution_count": 35
        }
      ],
      "source": [
        "keras.utils.plot_model(model, to_file='plot.png', show_layer_names=True)"
      ]
    },
    {
      "cell_type": "markdown",
      "metadata": {
        "id": "_4gRnkGE6aZH"
      },
      "source": [
        "### Train the model"
      ]
    },
    {
      "cell_type": "code",
      "execution_count": null,
      "metadata": {
        "colab": {
          "base_uri": "https://localhost:8080/"
        },
        "id": "K5ck3U6L6a7p",
        "outputId": "50ec15ef-701b-4f87-fafb-386398f77ac4"
      },
      "outputs": [
        {
          "output_type": "stream",
          "name": "stdout",
          "text": [
            "Epoch 1/70\n",
            "1969/1969 [==============================] - ETA: 0s - loss: 5.2479\n",
            "Epoch 1: loss improved from inf to 5.24788, saving model to next_words.h5\n",
            "1969/1969 [==============================] - 39s 18ms/step - loss: 5.2479\n",
            "Epoch 2/70\n",
            "1967/1969 [============================>.] - ETA: 0s - loss: 4.9843\n",
            "Epoch 2: loss improved from 5.24788 to 4.98434, saving model to next_words.h5\n",
            "1969/1969 [==============================] - 30s 15ms/step - loss: 4.9843\n",
            "Epoch 3/70\n",
            "1966/1969 [============================>.] - ETA: 0s - loss: 4.7794\n",
            "Epoch 3: loss improved from 4.98434 to 4.77978, saving model to next_words.h5\n",
            "1969/1969 [==============================] - 29s 15ms/step - loss: 4.7798\n",
            "Epoch 4/70\n",
            "1969/1969 [==============================] - ETA: 0s - loss: 4.6035\n",
            "Epoch 4: loss improved from 4.77978 to 4.60348, saving model to next_words.h5\n",
            "1969/1969 [==============================] - 30s 15ms/step - loss: 4.6035\n",
            "Epoch 5/70\n",
            "1968/1969 [============================>.] - ETA: 0s - loss: 4.4394\n",
            "Epoch 5: loss improved from 4.60348 to 4.43903, saving model to next_words.h5\n",
            "1969/1969 [==============================] - 29s 15ms/step - loss: 4.4390\n",
            "Epoch 6/70\n",
            "1966/1969 [============================>.] - ETA: 0s - loss: 4.2712\n",
            "Epoch 6: loss improved from 4.43903 to 4.27122, saving model to next_words.h5\n",
            "1969/1969 [==============================] - 29s 15ms/step - loss: 4.2712\n",
            "Epoch 7/70\n",
            "1968/1969 [============================>.] - ETA: 0s - loss: 4.0938\n",
            "Epoch 7: loss improved from 4.27122 to 4.09343, saving model to next_words.h5\n",
            "1969/1969 [==============================] - 29s 15ms/step - loss: 4.0934\n",
            "Epoch 8/70\n",
            "1969/1969 [==============================] - ETA: 0s - loss: 3.9032\n",
            "Epoch 8: loss improved from 4.09343 to 3.90321, saving model to next_words.h5\n",
            "1969/1969 [==============================] - 29s 15ms/step - loss: 3.9032\n",
            "Epoch 9/70\n",
            "1967/1969 [============================>.] - ETA: 0s - loss: 3.6943\n",
            "Epoch 9: loss improved from 3.90321 to 3.69451, saving model to next_words.h5\n",
            "1969/1969 [==============================] - 29s 15ms/step - loss: 3.6945\n",
            "Epoch 10/70\n",
            "1966/1969 [============================>.] - ETA: 0s - loss: 3.4682\n",
            "Epoch 10: loss improved from 3.69451 to 3.46807, saving model to next_words.h5\n",
            "1969/1969 [==============================] - 29s 15ms/step - loss: 3.4681\n",
            "Epoch 11/70\n",
            "1967/1969 [============================>.] - ETA: 0s - loss: 3.2221\n",
            "Epoch 11: loss improved from 3.46807 to 3.22195, saving model to next_words.h5\n",
            "1969/1969 [==============================] - 29s 15ms/step - loss: 3.2219\n",
            "Epoch 12/70\n",
            "1967/1969 [============================>.] - ETA: 0s - loss: 2.9629\n",
            "Epoch 12: loss improved from 3.22195 to 2.96297, saving model to next_words.h5\n",
            "1969/1969 [==============================] - 29s 15ms/step - loss: 2.9630\n",
            "Epoch 13/70\n",
            "1969/1969 [==============================] - ETA: 0s - loss: 2.6986\n",
            "Epoch 13: loss improved from 2.96297 to 2.69856, saving model to next_words.h5\n",
            "1969/1969 [==============================] - 29s 15ms/step - loss: 2.6986\n",
            "Epoch 14/70\n",
            "1969/1969 [==============================] - ETA: 0s - loss: 2.4323\n",
            "Epoch 14: loss improved from 2.69856 to 2.43234, saving model to next_words.h5\n",
            "1969/1969 [==============================] - 29s 15ms/step - loss: 2.4323\n",
            "Epoch 15/70\n",
            "1968/1969 [============================>.] - ETA: 0s - loss: 2.1710\n",
            "Epoch 15: loss improved from 2.43234 to 2.17112, saving model to next_words.h5\n",
            "1969/1969 [==============================] - 29s 15ms/step - loss: 2.1711\n",
            "Epoch 16/70\n",
            "1966/1969 [============================>.] - ETA: 0s - loss: 1.9256\n",
            "Epoch 16: loss improved from 2.17112 to 1.92568, saving model to next_words.h5\n",
            "1969/1969 [==============================] - 30s 15ms/step - loss: 1.9257\n",
            "Epoch 17/70\n",
            "1969/1969 [==============================] - ETA: 0s - loss: 1.7071\n",
            "Epoch 17: loss improved from 1.92568 to 1.70709, saving model to next_words.h5\n",
            "1969/1969 [==============================] - 29s 15ms/step - loss: 1.7071\n",
            "Epoch 18/70\n",
            "1966/1969 [============================>.] - ETA: 0s - loss: 1.5097\n",
            "Epoch 18: loss improved from 1.70709 to 1.50990, saving model to next_words.h5\n",
            "1969/1969 [==============================] - 29s 15ms/step - loss: 1.5099\n",
            "Epoch 19/70\n",
            "1968/1969 [============================>.] - ETA: 0s - loss: 1.3437\n",
            "Epoch 19: loss improved from 1.50990 to 1.34375, saving model to next_words.h5\n",
            "1969/1969 [==============================] - 29s 15ms/step - loss: 1.3438\n",
            "Epoch 20/70\n",
            "1967/1969 [============================>.] - ETA: 0s - loss: 1.2003\n",
            "Epoch 20: loss improved from 1.34375 to 1.20051, saving model to next_words.h5\n",
            "1969/1969 [==============================] - 29s 15ms/step - loss: 1.2005\n",
            "Epoch 21/70\n",
            "1969/1969 [==============================] - ETA: 0s - loss: 1.0920\n",
            "Epoch 21: loss improved from 1.20051 to 1.09200, saving model to next_words.h5\n",
            "1969/1969 [==============================] - 29s 15ms/step - loss: 1.0920\n",
            "Epoch 22/70\n",
            "1967/1969 [============================>.] - ETA: 0s - loss: 1.0023\n",
            "Epoch 22: loss improved from 1.09200 to 1.00240, saving model to next_words.h5\n",
            "1969/1969 [==============================] - 29s 15ms/step - loss: 1.0024\n",
            "Epoch 23/70\n",
            "1966/1969 [============================>.] - ETA: 0s - loss: 0.9251\n",
            "Epoch 23: loss improved from 1.00240 to 0.92540, saving model to next_words.h5\n",
            "1969/1969 [==============================] - 29s 15ms/step - loss: 0.9254\n",
            "Epoch 24/70\n",
            "1966/1969 [============================>.] - ETA: 0s - loss: 0.8724\n",
            "Epoch 24: loss improved from 0.92540 to 0.87271, saving model to next_words.h5\n",
            "1969/1969 [==============================] - 29s 15ms/step - loss: 0.8727\n",
            "Epoch 25/70\n",
            "1967/1969 [============================>.] - ETA: 0s - loss: 0.8229\n",
            "Epoch 25: loss improved from 0.87271 to 0.82325, saving model to next_words.h5\n",
            "1969/1969 [==============================] - 29s 15ms/step - loss: 0.8232\n",
            "Epoch 26/70\n",
            "1968/1969 [============================>.] - ETA: 0s - loss: 0.7844\n",
            "Epoch 26: loss improved from 0.82325 to 0.78470, saving model to next_words.h5\n",
            "1969/1969 [==============================] - 29s 15ms/step - loss: 0.7847\n",
            "Epoch 27/70\n",
            "1966/1969 [============================>.] - ETA: 0s - loss: 0.7544\n",
            "Epoch 27: loss improved from 0.78470 to 0.75470, saving model to next_words.h5\n",
            "1969/1969 [==============================] - 30s 15ms/step - loss: 0.7547\n",
            "Epoch 28/70\n",
            "1966/1969 [============================>.] - ETA: 0s - loss: 0.7228\n",
            "Epoch 28: loss improved from 0.75470 to 0.72304, saving model to next_words.h5\n",
            "1969/1969 [==============================] - 29s 15ms/step - loss: 0.7230\n",
            "Epoch 29/70\n",
            "1967/1969 [============================>.] - ETA: 0s - loss: 0.7042\n",
            "Epoch 29: loss improved from 0.72304 to 0.70429, saving model to next_words.h5\n",
            "1969/1969 [==============================] - 30s 15ms/step - loss: 0.7043\n",
            "Epoch 30/70\n",
            "1967/1969 [============================>.] - ETA: 0s - loss: 0.6806\n",
            "Epoch 30: loss improved from 0.70429 to 0.68093, saving model to next_words.h5\n",
            "1969/1969 [==============================] - 29s 15ms/step - loss: 0.6809\n",
            "Epoch 31/70\n",
            "1969/1969 [==============================] - ETA: 0s - loss: 0.6620\n",
            "Epoch 31: loss improved from 0.68093 to 0.66204, saving model to next_words.h5\n",
            "1969/1969 [==============================] - 29s 15ms/step - loss: 0.6620\n",
            "Epoch 32/70\n",
            "1968/1969 [============================>.] - ETA: 0s - loss: 0.6483\n",
            "Epoch 32: loss improved from 0.66204 to 0.64825, saving model to next_words.h5\n",
            "1969/1969 [==============================] - 30s 15ms/step - loss: 0.6482\n",
            "Epoch 33/70\n",
            "1968/1969 [============================>.] - ETA: 0s - loss: 0.6368\n",
            "Epoch 33: loss improved from 0.64825 to 0.63679, saving model to next_words.h5\n",
            "1969/1969 [==============================] - 29s 15ms/step - loss: 0.6368\n",
            "Epoch 34/70\n",
            "1966/1969 [============================>.] - ETA: 0s - loss: 0.6179\n",
            "Epoch 34: loss improved from 0.63679 to 0.61803, saving model to next_words.h5\n",
            "1969/1969 [==============================] - 29s 15ms/step - loss: 0.6180\n",
            "Epoch 35/70\n",
            "1966/1969 [============================>.] - ETA: 0s - loss: 0.6041\n",
            "Epoch 35: loss improved from 0.61803 to 0.60425, saving model to next_words.h5\n",
            "1969/1969 [==============================] - 29s 15ms/step - loss: 0.6043\n",
            "Epoch 36/70\n",
            "1969/1969 [==============================] - ETA: 0s - loss: 0.5998\n",
            "Epoch 36: loss improved from 0.60425 to 0.59976, saving model to next_words.h5\n",
            "1969/1969 [==============================] - 29s 15ms/step - loss: 0.5998\n",
            "Epoch 37/70\n",
            "1966/1969 [============================>.] - ETA: 0s - loss: 0.5879\n",
            "Epoch 37: loss improved from 0.59976 to 0.58791, saving model to next_words.h5\n",
            "1969/1969 [==============================] - 29s 15ms/step - loss: 0.5879\n",
            "Epoch 38/70\n",
            "1967/1969 [============================>.] - ETA: 0s - loss: 0.5763\n",
            "Epoch 38: loss improved from 0.58791 to 0.57652, saving model to next_words.h5\n",
            "1969/1969 [==============================] - 29s 15ms/step - loss: 0.5765\n",
            "Epoch 39/70\n",
            "1968/1969 [============================>.] - ETA: 0s - loss: 0.5705\n",
            "Epoch 39: loss improved from 0.57652 to 0.57056, saving model to next_words.h5\n",
            "1969/1969 [==============================] - 29s 15ms/step - loss: 0.5706\n",
            "Epoch 40/70\n",
            "1967/1969 [============================>.] - ETA: 0s - loss: 0.5571\n",
            "Epoch 40: loss improved from 0.57056 to 0.55707, saving model to next_words.h5\n",
            "1969/1969 [==============================] - 29s 15ms/step - loss: 0.5571\n",
            "Epoch 41/70\n",
            "1968/1969 [============================>.] - ETA: 0s - loss: 0.5516\n",
            "Epoch 41: loss improved from 0.55707 to 0.55158, saving model to next_words.h5\n",
            "1969/1969 [==============================] - 29s 15ms/step - loss: 0.5516\n",
            "Epoch 42/70\n",
            "1969/1969 [==============================] - ETA: 0s - loss: 0.5475\n",
            "Epoch 42: loss improved from 0.55158 to 0.54754, saving model to next_words.h5\n",
            "1969/1969 [==============================] - 30s 15ms/step - loss: 0.5475\n",
            "Epoch 43/70\n",
            "1968/1969 [============================>.] - ETA: 0s - loss: 0.5392\n",
            "Epoch 43: loss improved from 0.54754 to 0.53932, saving model to next_words.h5\n",
            "1969/1969 [==============================] - 29s 15ms/step - loss: 0.5393\n",
            "Epoch 44/70\n",
            "1967/1969 [============================>.] - ETA: 0s - loss: 0.5327\n",
            "Epoch 44: loss improved from 0.53932 to 0.53269, saving model to next_words.h5\n",
            "1969/1969 [==============================] - 30s 15ms/step - loss: 0.5327\n",
            "Epoch 45/70\n",
            "1968/1969 [============================>.] - ETA: 0s - loss: 0.5267\n",
            "Epoch 45: loss improved from 0.53269 to 0.52703, saving model to next_words.h5\n",
            "1969/1969 [==============================] - 29s 15ms/step - loss: 0.5270\n",
            "Epoch 46/70\n",
            "1969/1969 [==============================] - ETA: 0s - loss: 0.5185\n",
            "Epoch 46: loss improved from 0.52703 to 0.51855, saving model to next_words.h5\n",
            "1969/1969 [==============================] - 29s 15ms/step - loss: 0.5185\n",
            "Epoch 47/70\n",
            "1968/1969 [============================>.] - ETA: 0s - loss: 0.5150\n",
            "Epoch 47: loss improved from 0.51855 to 0.51503, saving model to next_words.h5\n",
            "1969/1969 [==============================] - 29s 15ms/step - loss: 0.5150\n",
            "Epoch 48/70\n",
            "1966/1969 [============================>.] - ETA: 0s - loss: 0.5074\n",
            "Epoch 48: loss improved from 0.51503 to 0.50763, saving model to next_words.h5\n",
            "1969/1969 [==============================] - 29s 15ms/step - loss: 0.5076\n",
            "Epoch 49/70\n",
            "1968/1969 [============================>.] - ETA: 0s - loss: 0.5058\n",
            "Epoch 49: loss improved from 0.50763 to 0.50590, saving model to next_words.h5\n",
            "1969/1969 [==============================] - 30s 15ms/step - loss: 0.5059\n",
            "Epoch 50/70\n",
            "1966/1969 [============================>.] - ETA: 0s - loss: 0.4980\n",
            "Epoch 50: loss improved from 0.50590 to 0.49806, saving model to next_words.h5\n",
            "1969/1969 [==============================] - 29s 15ms/step - loss: 0.4981\n",
            "Epoch 51/70\n",
            "1968/1969 [============================>.] - ETA: 0s - loss: 0.4907\n",
            "Epoch 51: loss improved from 0.49806 to 0.49069, saving model to next_words.h5\n",
            "1969/1969 [==============================] - 29s 15ms/step - loss: 0.4907\n",
            "Epoch 52/70\n",
            "1969/1969 [==============================] - ETA: 0s - loss: 0.4911\n",
            "Epoch 52: loss did not improve from 0.49069\n",
            "1969/1969 [==============================] - 28s 14ms/step - loss: 0.4911\n",
            "Epoch 53/70\n",
            "1968/1969 [============================>.] - ETA: 0s - loss: 0.4845\n",
            "Epoch 53: loss improved from 0.49069 to 0.48458, saving model to next_words.h5\n",
            "1969/1969 [==============================] - 29s 15ms/step - loss: 0.4846\n",
            "Epoch 54/70\n",
            "1968/1969 [============================>.] - ETA: 0s - loss: 0.4826\n",
            "Epoch 54: loss improved from 0.48458 to 0.48265, saving model to next_words.h5\n",
            "1969/1969 [==============================] - 29s 15ms/step - loss: 0.4826\n",
            "Epoch 55/70\n",
            "1969/1969 [==============================] - ETA: 0s - loss: 0.4777\n",
            "Epoch 55: loss improved from 0.48265 to 0.47769, saving model to next_words.h5\n",
            "1969/1969 [==============================] - 29s 15ms/step - loss: 0.4777\n",
            "Epoch 56/70\n",
            "1967/1969 [============================>.] - ETA: 0s - loss: 0.4727\n",
            "Epoch 56: loss improved from 0.47769 to 0.47261, saving model to next_words.h5\n",
            "1969/1969 [==============================] - 29s 15ms/step - loss: 0.4726\n",
            "Epoch 57/70\n",
            "1969/1969 [==============================] - ETA: 0s - loss: 0.4736\n",
            "Epoch 57: loss did not improve from 0.47261\n",
            "1969/1969 [==============================] - 28s 14ms/step - loss: 0.4736\n",
            "Epoch 58/70\n",
            "1969/1969 [==============================] - ETA: 0s - loss: 0.4676\n",
            "Epoch 58: loss improved from 0.47261 to 0.46764, saving model to next_words.h5\n",
            "1969/1969 [==============================] - 29s 15ms/step - loss: 0.4676\n",
            "Epoch 59/70\n",
            "1969/1969 [==============================] - ETA: 0s - loss: 0.4606\n",
            "Epoch 59: loss improved from 0.46764 to 0.46065, saving model to next_words.h5\n",
            "1969/1969 [==============================] - 30s 15ms/step - loss: 0.4606\n",
            "Epoch 60/70\n",
            "1969/1969 [==============================] - ETA: 0s - loss: 0.4609\n",
            "Epoch 60: loss did not improve from 0.46065\n",
            "1969/1969 [==============================] - 28s 14ms/step - loss: 0.4609\n",
            "Epoch 61/70\n",
            "1967/1969 [============================>.] - ETA: 0s - loss: 0.4571\n",
            "Epoch 61: loss improved from 0.46065 to 0.45736, saving model to next_words.h5\n",
            "1969/1969 [==============================] - 30s 15ms/step - loss: 0.4574\n",
            "Epoch 62/70\n",
            "1968/1969 [============================>.] - ETA: 0s - loss: 0.4566\n",
            "Epoch 62: loss improved from 0.45736 to 0.45659, saving model to next_words.h5\n",
            "1969/1969 [==============================] - 29s 15ms/step - loss: 0.4566\n",
            "Epoch 63/70\n",
            "1969/1969 [==============================] - ETA: 0s - loss: 0.4527\n",
            "Epoch 63: loss improved from 0.45659 to 0.45271, saving model to next_words.h5\n",
            "1969/1969 [==============================] - 30s 15ms/step - loss: 0.4527\n",
            "Epoch 64/70\n",
            "1967/1969 [============================>.] - ETA: 0s - loss: 0.4506\n",
            "Epoch 64: loss improved from 0.45271 to 0.45059, saving model to next_words.h5\n",
            "1969/1969 [==============================] - 29s 15ms/step - loss: 0.4506\n",
            "Epoch 65/70\n",
            "1968/1969 [============================>.] - ETA: 0s - loss: 0.4472\n",
            "Epoch 65: loss improved from 0.45059 to 0.44727, saving model to next_words.h5\n",
            "1969/1969 [==============================] - 30s 15ms/step - loss: 0.4473\n",
            "Epoch 66/70\n",
            "1968/1969 [============================>.] - ETA: 0s - loss: 0.4460\n",
            "Epoch 66: loss improved from 0.44727 to 0.44597, saving model to next_words.h5\n",
            "1969/1969 [==============================] - 30s 15ms/step - loss: 0.4460\n",
            "Epoch 67/70\n",
            "1968/1969 [============================>.] - ETA: 0s - loss: 0.4427\n",
            "Epoch 67: loss improved from 0.44597 to 0.44276, saving model to next_words.h5\n",
            "1969/1969 [==============================] - 29s 15ms/step - loss: 0.4428\n",
            "Epoch 68/70\n",
            "1967/1969 [============================>.] - ETA: 0s - loss: 0.4387\n",
            "Epoch 68: loss improved from 0.44276 to 0.43883, saving model to next_words.h5\n",
            "1969/1969 [==============================] - 29s 15ms/step - loss: 0.4388\n",
            "Epoch 69/70\n",
            "1967/1969 [============================>.] - ETA: 0s - loss: 0.4399\n",
            "Epoch 69: loss did not improve from 0.43883\n",
            "1969/1969 [==============================] - 29s 14ms/step - loss: 0.4400\n",
            "Epoch 70/70\n",
            "1968/1969 [============================>.] - ETA: 0s - loss: 0.4374\n",
            "Epoch 70: loss improved from 0.43883 to 0.43744, saving model to next_words.h5\n",
            "1969/1969 [==============================] - 30s 15ms/step - loss: 0.4374\n"
          ]
        },
        {
          "output_type": "execute_result",
          "data": {
            "text/plain": [
              "<keras.callbacks.History at 0x7f5783d5e920>"
            ]
          },
          "metadata": {},
          "execution_count": 42
        }
      ],
      "source": [
        "checkpoint = ModelCheckpoint(\"next_words.h5\", monitor='loss', verbose=1, save_best_only=True)\n",
        "model.compile(loss=\"categorical_crossentropy\", optimizer=Adam(learning_rate=0.001))\n",
        "model.fit(X, y, epochs=70, batch_size=64, callbacks=[checkpoint])"
      ]
    },
    {
      "cell_type": "markdown",
      "metadata": {
        "id": "Oz0OGn2k6jnN"
      },
      "source": [
        "### Prediction"
      ]
    },
    {
      "cell_type": "code",
      "execution_count": null,
      "metadata": {
        "id": "Tf3HJ6cj6kLN"
      },
      "outputs": [],
      "source": [
        "# Load the model and tokenizer\n",
        "model = load_model('next_words.h5')\n",
        "tokenizer = pickle.load(open('token.pkl', 'rb'))\n",
        "\n",
        "def Predict_Next_Words(model, tokenizer, text):\n",
        "\n",
        "  sequence = tokenizer.texts_to_sequences([text])\n",
        "  sequence = np.array(sequence)\n",
        "  preds = np.argmax(model.predict(sequence))\n",
        "  predicted_word = \"\"\n",
        "  \n",
        "  for key, value in tokenizer.word_index.items():\n",
        "      if value == preds:\n",
        "          predicted_word = key\n",
        "          break\n",
        "  \n",
        "  print(predicted_word)\n",
        "  return predicted_word"
      ]
    },
    {
      "cell_type": "code",
      "execution_count": null,
      "metadata": {
        "colab": {
          "base_uri": "https://localhost:8080/"
        },
        "id": "vPIIgAFm6tBO",
        "outputId": "4de493ad-807b-46da-e31e-ec7280973448"
      },
      "outputs": [
        {
          "output_type": "stream",
          "name": "stdout",
          "text": [
            "Enter your line: The Project Gutenberg eBook\n",
            "['Project', 'Gutenberg', 'eBook']\n",
            "1/1 [==============================] - 1s 1s/step\n",
            "pride\n",
            "Enter your line: The Project Gutenberg eBook, Pride\n",
            "['Gutenberg', 'eBook,', 'Pride']\n",
            "1/1 [==============================] - 1s 616ms/step\n",
            "1\n",
            "Enter your line: He could not help seeing that you were about five times as\n",
            "['five', 'times', 'as']\n",
            "1/1 [==============================] - 0s 22ms/step\n",
            "pretty\n",
            "Enter your line: Mrs. Hurst and her sister\n",
            "['and', 'her', 'sister']\n",
            "1/1 [==============================] - 0s 21ms/step\n",
            "allowed\n",
            "Enter your line: Elizabeth preserved as steady a\n",
            "['as', 'steady', 'a']\n",
            "1/1 [==============================] - 0s 24ms/step\n",
            "silence\n",
            "Enter your line: 0\n",
            "Execution completed.....\n"
          ]
        }
      ],
      "source": [
        "while(True):\n",
        "  text = input(\"Enter your line: \")\n",
        "  \n",
        "  if text == \"0\":\n",
        "      print(\"Execution completed.....\")\n",
        "      break\n",
        "  \n",
        "  else:\n",
        "      try:\n",
        "          text = text.split(\" \")\n",
        "          text = text[-3:]\n",
        "          print(text)\n",
        "        \n",
        "          Predict_Next_Words(model, tokenizer, text)\n",
        "          \n",
        "      except Exception as e:\n",
        "        print(\"Error occurred: \",e)\n",
        "        continue"
      ]
    }
  ],
  "metadata": {
    "accelerator": "GPU",
    "colab": {
      "collapsed_sections": [
        "bdgaTryY1le0",
        "z22yX6VhrVtX",
        "8_0Oj2VrvWYU"
      ],
      "provenance": [],
      "gpuType": "T4"
    },
    "gpuClass": "standard",
    "kernelspec": {
      "display_name": "Python 3 (ipykernel)",
      "language": "python",
      "name": "python3"
    },
    "language_info": {
      "codemirror_mode": {
        "name": "ipython",
        "version": 3
      },
      "file_extension": ".py",
      "mimetype": "text/x-python",
      "name": "python",
      "nbconvert_exporter": "python",
      "pygments_lexer": "ipython3",
      "version": "3.9.7"
    }
  },
  "nbformat": 4,
  "nbformat_minor": 0
}