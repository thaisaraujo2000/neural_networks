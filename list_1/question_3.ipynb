{
 "cells": [
  {
   "attachments": {},
   "cell_type": "markdown",
   "metadata": {},
   "source": [
    "# **Questão 3**\n",
    "\n",
    "Pesquise   e   apresente   um   trabalho   sobre   aprendizagem supervisionada,   semi-superviosionada,    não  supervisionada  e  aprendizagem  por  reforço. Exemplifique  com  problemas ou aplicações."
   ]
  },
  {
   "attachments": {},
   "cell_type": "markdown",
   "metadata": {},
   "source": [
    "## **Aprendizagem Supervisionada** "
   ]
  },
  {
   "attachments": {},
   "cell_type": "markdown",
   "metadata": {},
   "source": [
    "De acordo com Géron (2021), a aprendizagem supervisionada é uma técnica de aprendizado de máquina que envolve o treinamento de um modelo usando um conjunto de dados rotulados. Esses rótulos fornecem ao modelo exemplos de entrada e saída esperada, permitindo que ele aprenda a mapear entradas para saídas corretas. Essa abordagem é comumente usada em problemas de classificação e regressão. A figura 1 mostra um exemplo de classificação, onde a tarefa é aprender os padrões de e-mails que são <i>spam</i> e <i>não spam</i> a partir dos dados rotulados e classificar os novos e-mails que irão chegar.\n",
    "\n",
    "<p align='center'>\n",
    "    <img src='./images/supervised_classification.png'>\n",
    "    Figura 1: Exemplo de um problema de classificação de aprendizado supervisionado. Fonte: Aurélien Géron (2021).\n",
    "</p>\n",
    "\n",
    "\n",
    "A figura 2 ilustra outro problema comum de aprendizagem supervisionada que é a predição de um valor numérico, como o preço de um carro a partir de várias caracteríscas (features) como odômetro, ano de fabricação, marca etc. Essa classe de problemas é chamada de regressão. \n",
    "\n",
    "<p align='center'>\n",
    "    <img src='./images/supervised_regression.png'>\n",
    "    Figura 2: Exemplo de um problema de regressão de aprendizado supervisionado. Fonte: Aurélien Géron (2021).\n",
    "</p>\n",
    "\n",
    "Alguns dos algoritmos mais importates desse tipo de aprendizagem são:\n",
    "\n",
    "- K-Nearest Neighbors\n",
    "- Linear Regression\n",
    "- Logistic Regression\n",
    "- Support Vector Machines (SVM)\n",
    "- Decision Trees e Random Forests\n",
    "- Neural Networks"
   ]
  },
  {
   "attachments": {},
   "cell_type": "markdown",
   "metadata": {},
   "source": [
    "### Aplicação\n",
    "\n",
    "Classificação de e-mail entre <i>spam</i> e <i>não spam</i>."
   ]
  },
  {
   "cell_type": "code",
   "execution_count": 8,
   "metadata": {},
   "outputs": [],
   "source": [
    "# importing libraries\n",
    "import torch\n",
    "import pandas as pd\n",
    "import torch.nn as nn\n",
    "from torch.utils.data import DataLoader\n",
    "from sklearn.metrics import ConfusionMatrixDisplay\n",
    "from sklearn.model_selection import train_test_split\n",
    "from sklearn.metrics import classification_report, confusion_matrix"
   ]
  },
  {
   "cell_type": "code",
   "execution_count": 3,
   "metadata": {},
   "outputs": [
    {
     "data": {
      "text/plain": [
       "(5172, 3002)"
      ]
     },
     "execution_count": 3,
     "metadata": {},
     "output_type": "execute_result"
    }
   ],
   "source": [
    "# reading the data\n",
    "emails = pd.read_csv('./datasets/emails.csv.zip')\n",
    "emails.shape"
   ]
  },
  {
   "attachments": {},
   "cell_type": "markdown",
   "metadata": {},
   "source": [
    "O conjunto de dados consiste em uma bag of words, ou seja, cada coluna representa uma coluna e seu valor consiste na quantidade de vezes que ela apareceu no email. A primeira coluna consiste apenas no número do email e não fornece informação relevantes para o treinamento, por isso, ela será retirada. Assim, têm-se 3000 features e a coluna do rótulo é representada por <i>Prediction</i>"
   ]
  },
  {
   "cell_type": "code",
   "execution_count": 4,
   "metadata": {},
   "outputs": [
    {
     "data": {
      "text/html": [
       "<div>\n",
       "<style scoped>\n",
       "    .dataframe tbody tr th:only-of-type {\n",
       "        vertical-align: middle;\n",
       "    }\n",
       "\n",
       "    .dataframe tbody tr th {\n",
       "        vertical-align: top;\n",
       "    }\n",
       "\n",
       "    .dataframe thead th {\n",
       "        text-align: right;\n",
       "    }\n",
       "</style>\n",
       "<table border=\"1\" class=\"dataframe\">\n",
       "  <thead>\n",
       "    <tr style=\"text-align: right;\">\n",
       "      <th></th>\n",
       "      <th>Email No.</th>\n",
       "      <th>the</th>\n",
       "      <th>to</th>\n",
       "      <th>ect</th>\n",
       "      <th>and</th>\n",
       "      <th>for</th>\n",
       "      <th>of</th>\n",
       "      <th>a</th>\n",
       "      <th>you</th>\n",
       "      <th>hou</th>\n",
       "      <th>...</th>\n",
       "      <th>connevey</th>\n",
       "      <th>jay</th>\n",
       "      <th>valued</th>\n",
       "      <th>lay</th>\n",
       "      <th>infrastructure</th>\n",
       "      <th>military</th>\n",
       "      <th>allowing</th>\n",
       "      <th>ff</th>\n",
       "      <th>dry</th>\n",
       "      <th>Prediction</th>\n",
       "    </tr>\n",
       "  </thead>\n",
       "  <tbody>\n",
       "    <tr>\n",
       "      <th>0</th>\n",
       "      <td>Email 1</td>\n",
       "      <td>0</td>\n",
       "      <td>0</td>\n",
       "      <td>1</td>\n",
       "      <td>0</td>\n",
       "      <td>0</td>\n",
       "      <td>0</td>\n",
       "      <td>2</td>\n",
       "      <td>0</td>\n",
       "      <td>0</td>\n",
       "      <td>...</td>\n",
       "      <td>0</td>\n",
       "      <td>0</td>\n",
       "      <td>0</td>\n",
       "      <td>0</td>\n",
       "      <td>0</td>\n",
       "      <td>0</td>\n",
       "      <td>0</td>\n",
       "      <td>0</td>\n",
       "      <td>0</td>\n",
       "      <td>0</td>\n",
       "    </tr>\n",
       "    <tr>\n",
       "      <th>1</th>\n",
       "      <td>Email 2</td>\n",
       "      <td>8</td>\n",
       "      <td>13</td>\n",
       "      <td>24</td>\n",
       "      <td>6</td>\n",
       "      <td>6</td>\n",
       "      <td>2</td>\n",
       "      <td>102</td>\n",
       "      <td>1</td>\n",
       "      <td>27</td>\n",
       "      <td>...</td>\n",
       "      <td>0</td>\n",
       "      <td>0</td>\n",
       "      <td>0</td>\n",
       "      <td>0</td>\n",
       "      <td>0</td>\n",
       "      <td>0</td>\n",
       "      <td>0</td>\n",
       "      <td>1</td>\n",
       "      <td>0</td>\n",
       "      <td>0</td>\n",
       "    </tr>\n",
       "    <tr>\n",
       "      <th>2</th>\n",
       "      <td>Email 3</td>\n",
       "      <td>0</td>\n",
       "      <td>0</td>\n",
       "      <td>1</td>\n",
       "      <td>0</td>\n",
       "      <td>0</td>\n",
       "      <td>0</td>\n",
       "      <td>8</td>\n",
       "      <td>0</td>\n",
       "      <td>0</td>\n",
       "      <td>...</td>\n",
       "      <td>0</td>\n",
       "      <td>0</td>\n",
       "      <td>0</td>\n",
       "      <td>0</td>\n",
       "      <td>0</td>\n",
       "      <td>0</td>\n",
       "      <td>0</td>\n",
       "      <td>0</td>\n",
       "      <td>0</td>\n",
       "      <td>0</td>\n",
       "    </tr>\n",
       "    <tr>\n",
       "      <th>3</th>\n",
       "      <td>Email 4</td>\n",
       "      <td>0</td>\n",
       "      <td>5</td>\n",
       "      <td>22</td>\n",
       "      <td>0</td>\n",
       "      <td>5</td>\n",
       "      <td>1</td>\n",
       "      <td>51</td>\n",
       "      <td>2</td>\n",
       "      <td>10</td>\n",
       "      <td>...</td>\n",
       "      <td>0</td>\n",
       "      <td>0</td>\n",
       "      <td>0</td>\n",
       "      <td>0</td>\n",
       "      <td>0</td>\n",
       "      <td>0</td>\n",
       "      <td>0</td>\n",
       "      <td>0</td>\n",
       "      <td>0</td>\n",
       "      <td>0</td>\n",
       "    </tr>\n",
       "    <tr>\n",
       "      <th>4</th>\n",
       "      <td>Email 5</td>\n",
       "      <td>7</td>\n",
       "      <td>6</td>\n",
       "      <td>17</td>\n",
       "      <td>1</td>\n",
       "      <td>5</td>\n",
       "      <td>2</td>\n",
       "      <td>57</td>\n",
       "      <td>0</td>\n",
       "      <td>9</td>\n",
       "      <td>...</td>\n",
       "      <td>0</td>\n",
       "      <td>0</td>\n",
       "      <td>0</td>\n",
       "      <td>0</td>\n",
       "      <td>0</td>\n",
       "      <td>0</td>\n",
       "      <td>0</td>\n",
       "      <td>1</td>\n",
       "      <td>0</td>\n",
       "      <td>0</td>\n",
       "    </tr>\n",
       "  </tbody>\n",
       "</table>\n",
       "<p>5 rows × 3002 columns</p>\n",
       "</div>"
      ],
      "text/plain": [
       "  Email No.  the  to  ect  and  for  of    a  you  hou  ...  connevey  jay  \\\n",
       "0   Email 1    0   0    1    0    0   0    2    0    0  ...         0    0   \n",
       "1   Email 2    8  13   24    6    6   2  102    1   27  ...         0    0   \n",
       "2   Email 3    0   0    1    0    0   0    8    0    0  ...         0    0   \n",
       "3   Email 4    0   5   22    0    5   1   51    2   10  ...         0    0   \n",
       "4   Email 5    7   6   17    1    5   2   57    0    9  ...         0    0   \n",
       "\n",
       "   valued  lay  infrastructure  military  allowing  ff  dry  Prediction  \n",
       "0       0    0               0         0         0   0    0           0  \n",
       "1       0    0               0         0         0   1    0           0  \n",
       "2       0    0               0         0         0   0    0           0  \n",
       "3       0    0               0         0         0   0    0           0  \n",
       "4       0    0               0         0         0   1    0           0  \n",
       "\n",
       "[5 rows x 3002 columns]"
      ]
     },
     "execution_count": 4,
     "metadata": {},
     "output_type": "execute_result"
    }
   ],
   "source": [
    "emails.head()"
   ]
  },
  {
   "attachments": {},
   "cell_type": "markdown",
   "metadata": {},
   "source": [
    "No dataset, têm-se 3672 emails que não são spam (classe 0) e 1500 que são (classe 1)."
   ]
  },
  {
   "cell_type": "code",
   "execution_count": 6,
   "metadata": {},
   "outputs": [
    {
     "data": {
      "text/plain": [
       "0    3672\n",
       "1    1500\n",
       "Name: Prediction, dtype: int64"
      ]
     },
     "execution_count": 6,
     "metadata": {},
     "output_type": "execute_result"
    }
   ],
   "source": [
    "emails.Prediction.value_counts()"
   ]
  },
  {
   "attachments": {},
   "cell_type": "markdown",
   "metadata": {},
   "source": [
    "A célula abaixo realiza a divisão entre o conjunto de dados de treinamento e o de teste numa proporção de 80/20, respectivamente."
   ]
  },
  {
   "cell_type": "code",
   "execution_count": 35,
   "metadata": {},
   "outputs": [
    {
     "name": "stdout",
     "output_type": "stream",
     "text": [
      "X train shape:  (4137, 3000)\n",
      "X test shape:  (1035, 3000)\n",
      "y train shape:  (4137,)\n",
      "y test shape:  (1035,)\n"
     ]
    }
   ],
   "source": [
    "# train test split\n",
    "X = emails.drop(['Email No.','Prediction'], axis=1)\n",
    "y = emails.Prediction\n",
    "\n",
    "X_train, X_test, y_train, y_test = train_test_split(X, y, test_size=0.2, random_state=42)\n",
    "\n",
    "print(\"X train shape: \", X_train.shape)\n",
    "print(\"X test shape: \", X_test.shape)\n",
    "print(\"y train shape: \", y_train.shape)\n",
    "print(\"y test shape: \", y_test.shape)"
   ]
  },
  {
   "attachments": {},
   "cell_type": "markdown",
   "metadata": {},
   "source": [
    "A seguir será treinado uma Random Forest com o intuito de aprender os padrões e classificar corretamente os emails."
   ]
  },
  {
   "cell_type": "code",
   "execution_count": 44,
   "metadata": {},
   "outputs": [
    {
     "data": {
      "text/html": [
       "<style>#sk-container-id-1 {color: black;background-color: white;}#sk-container-id-1 pre{padding: 0;}#sk-container-id-1 div.sk-toggleable {background-color: white;}#sk-container-id-1 label.sk-toggleable__label {cursor: pointer;display: block;width: 100%;margin-bottom: 0;padding: 0.3em;box-sizing: border-box;text-align: center;}#sk-container-id-1 label.sk-toggleable__label-arrow:before {content: \"▸\";float: left;margin-right: 0.25em;color: #696969;}#sk-container-id-1 label.sk-toggleable__label-arrow:hover:before {color: black;}#sk-container-id-1 div.sk-estimator:hover label.sk-toggleable__label-arrow:before {color: black;}#sk-container-id-1 div.sk-toggleable__content {max-height: 0;max-width: 0;overflow: hidden;text-align: left;background-color: #f0f8ff;}#sk-container-id-1 div.sk-toggleable__content pre {margin: 0.2em;color: black;border-radius: 0.25em;background-color: #f0f8ff;}#sk-container-id-1 input.sk-toggleable__control:checked~div.sk-toggleable__content {max-height: 200px;max-width: 100%;overflow: auto;}#sk-container-id-1 input.sk-toggleable__control:checked~label.sk-toggleable__label-arrow:before {content: \"▾\";}#sk-container-id-1 div.sk-estimator input.sk-toggleable__control:checked~label.sk-toggleable__label {background-color: #d4ebff;}#sk-container-id-1 div.sk-label input.sk-toggleable__control:checked~label.sk-toggleable__label {background-color: #d4ebff;}#sk-container-id-1 input.sk-hidden--visually {border: 0;clip: rect(1px 1px 1px 1px);clip: rect(1px, 1px, 1px, 1px);height: 1px;margin: -1px;overflow: hidden;padding: 0;position: absolute;width: 1px;}#sk-container-id-1 div.sk-estimator {font-family: monospace;background-color: #f0f8ff;border: 1px dotted black;border-radius: 0.25em;box-sizing: border-box;margin-bottom: 0.5em;}#sk-container-id-1 div.sk-estimator:hover {background-color: #d4ebff;}#sk-container-id-1 div.sk-parallel-item::after {content: \"\";width: 100%;border-bottom: 1px solid gray;flex-grow: 1;}#sk-container-id-1 div.sk-label:hover label.sk-toggleable__label {background-color: #d4ebff;}#sk-container-id-1 div.sk-serial::before {content: \"\";position: absolute;border-left: 1px solid gray;box-sizing: border-box;top: 0;bottom: 0;left: 50%;z-index: 0;}#sk-container-id-1 div.sk-serial {display: flex;flex-direction: column;align-items: center;background-color: white;padding-right: 0.2em;padding-left: 0.2em;position: relative;}#sk-container-id-1 div.sk-item {position: relative;z-index: 1;}#sk-container-id-1 div.sk-parallel {display: flex;align-items: stretch;justify-content: center;background-color: white;position: relative;}#sk-container-id-1 div.sk-item::before, #sk-container-id-1 div.sk-parallel-item::before {content: \"\";position: absolute;border-left: 1px solid gray;box-sizing: border-box;top: 0;bottom: 0;left: 50%;z-index: -1;}#sk-container-id-1 div.sk-parallel-item {display: flex;flex-direction: column;z-index: 1;position: relative;background-color: white;}#sk-container-id-1 div.sk-parallel-item:first-child::after {align-self: flex-end;width: 50%;}#sk-container-id-1 div.sk-parallel-item:last-child::after {align-self: flex-start;width: 50%;}#sk-container-id-1 div.sk-parallel-item:only-child::after {width: 0;}#sk-container-id-1 div.sk-dashed-wrapped {border: 1px dashed gray;margin: 0 0.4em 0.5em 0.4em;box-sizing: border-box;padding-bottom: 0.4em;background-color: white;}#sk-container-id-1 div.sk-label label {font-family: monospace;font-weight: bold;display: inline-block;line-height: 1.2em;}#sk-container-id-1 div.sk-label-container {text-align: center;}#sk-container-id-1 div.sk-container {/* jupyter's `normalize.less` sets `[hidden] { display: none; }` but bootstrap.min.css set `[hidden] { display: none !important; }` so we also need the `!important` here to be able to override the default hidden behavior on the sphinx rendered scikit-learn.org. See: https://github.com/scikit-learn/scikit-learn/issues/21755 */display: inline-block !important;position: relative;}#sk-container-id-1 div.sk-text-repr-fallback {display: none;}</style><div id=\"sk-container-id-1\" class=\"sk-top-container\"><div class=\"sk-text-repr-fallback\"><pre>RandomForestClassifier(random_state=42)</pre><b>In a Jupyter environment, please rerun this cell to show the HTML representation or trust the notebook. <br />On GitHub, the HTML representation is unable to render, please try loading this page with nbviewer.org.</b></div><div class=\"sk-container\" hidden><div class=\"sk-item\"><div class=\"sk-estimator sk-toggleable\"><input class=\"sk-toggleable__control sk-hidden--visually\" id=\"sk-estimator-id-1\" type=\"checkbox\" checked><label for=\"sk-estimator-id-1\" class=\"sk-toggleable__label sk-toggleable__label-arrow\">RandomForestClassifier</label><div class=\"sk-toggleable__content\"><pre>RandomForestClassifier(random_state=42)</pre></div></div></div></div></div>"
      ],
      "text/plain": [
       "RandomForestClassifier(random_state=42)"
      ]
     },
     "execution_count": 44,
     "metadata": {},
     "output_type": "execute_result"
    }
   ],
   "source": [
    "from sklearn.ensemble import RandomForestClassifier\n",
    "\n",
    "# instantiate the model\n",
    "rfc = RandomForestClassifier(n_estimators=100, criterion='gini', random_state=42)\n",
    "\n",
    "# training the model\n",
    "rfc.fit(X_train, y_train)"
   ]
  },
  {
   "cell_type": "code",
   "execution_count": 45,
   "metadata": {},
   "outputs": [
    {
     "name": "stdout",
     "output_type": "stream",
     "text": [
      "              precision    recall  f1-score   support\n",
      "\n",
      "           0       0.99      0.98      0.98       739\n",
      "           1       0.96      0.96      0.96       296\n",
      "\n",
      "    accuracy                           0.98      1035\n",
      "   macro avg       0.97      0.97      0.97      1035\n",
      "weighted avg       0.98      0.98      0.98      1035\n",
      "\n"
     ]
    }
   ],
   "source": [
    "# predictions\n",
    "y_pred = rfc.predict(X_test)\n",
    "\n",
    "# classification report\n",
    "print(classification_report(y_test, y_pred))"
   ]
  },
  {
   "cell_type": "code",
   "execution_count": 46,
   "metadata": {},
   "outputs": [
    {
     "name": "stdout",
     "output_type": "stream",
     "text": [
      "<sklearn.metrics._plot.confusion_matrix.ConfusionMatrixDisplay object at 0x7f34a4bcfdc0>\n"
     ]
    },
    {
     "data": {
      "image/png": "[encoded data removed]",
      "text/plain": [
       "<Figure size 640x480 with 2 Axes>"
      ]
     },
     "metadata": {},
     "output_type": "display_data"
    }
   ],
   "source": [
    "# confusion matrix\n",
    "cm = confusion_matrix(y_test, y_pred)\n",
    "print(ConfusionMatrixDisplay(cm, display_labels=['ham', 'spam']).plot())"
   ]
  },
  {
   "attachments": {},
   "cell_type": "markdown",
   "metadata": {},
   "source": [
    "## **Aprendizagem Semi-Supervisionada** \n"
   ]
  },
  {
   "attachments": {},
   "cell_type": "markdown",
   "metadata": {},
   "source": [
    "De acordo com Géron (2021), a aprendizagem semi-supervisionada é uma técnica de aprendizado de máquina que lida com conjuntos de dados que contêm uma grande quantidade de dados não rotulados e uma pequena quantidade de dados rotulados. O objetivo é utilizar tanto os dados rotulados quanto os não rotulados para treinar o modelo, permitindo que ele aprenda a classificar ou prever novos dados com maior precisão. Uma abordagem comum é treinar inicialmente o modelo com os dados rotulados e, em seguida, usar esses rótulos para propagar a informação para os dados não rotulados, gerando novos rótulos para eles.\n",
    "\n",
    "Um exemplo de aplicação desse tipo de algoritmo é o Google Photos, o qual agrupa as pessoas com rostos parecidos nas fotos que estão hospedadas lá. Quando o usuário rotula o rosto de uma pessoa em uma foto, o algoritmo automaticamente rotula todas as outras fotos que possuem o rosto daquela pessoa com o rótulo que o usuário forneceu. A figura 4 ilustra o fuicionamento desse algoritmo\n",
    "\n",
    "<p align='center'>\n",
    "    <img src='./images/semisupervised.png'>\n",
    "    Figura 4: Exemplo de um problema de aprendizado semi-supervisionado. Fonte: Aurélien Géron (2021).\n",
    "</p>\n",
    "\n",
    "Alguns dos algoritmos mais importantes desse tipo de aprendizagem são:\n",
    "- Deep Belief Networks (DBNs)\n",
    "- Restricted Boltzmann Machines (RBMs)"
   ]
  },
  {
   "attachments": {},
   "cell_type": "markdown",
   "metadata": {},
   "source": [
    "## **Aprendizagem Não Supervisionada**"
   ]
  },
  {
   "attachments": {},
   "cell_type": "markdown",
   "metadata": {},
   "source": [
    "De acordo com Géron (2021), a aprendizagem não supervisionada é uma técnica de aprendizado de máquina que lida com conjuntos de dados não rotulados, ou seja, dados que não possuem rótulos ou saídas esperadas. O objetivo é encontrar padrões, estruturas ou relações interessantes dentro desses dados, permitindo que o modelo aprenda a representação latente dos dados. Essa abordagem é comumente usada em tarefas como agrupamento, redução de dimensionalidade e detecção de anomalias.\n",
    "\n",
    "Como exemplo de uma tarefa de agrupamento, suponha por exemplo que você tem um blog e deseja entender o perfil dos leitores do seu blog, como ilustra a figura 5. Com um algoritmo de agrupamento, você pode encontrar relações do tipo: 60% da sua audiência é representada por mulheres que leeem conteúdo cômico e acessam seu blog predominantemente à noite. Ou então, 20% dos seus leitores são jovens que amam ficção científica e que acessam seu blog no fim de semana. Essas relações são possíveis de serem visualizadas com agrupamentos hierárquicos, os quais possibilitam a divisão em sub-grupos.\n",
    "\n",
    "<p align='center'>\n",
    "    <img src='./images/unsupervised_clustering.png'>\n",
    "    Figura 5: Exemplo de um problema de agrupamento de aprendizado não supervisionado. Fonte: Aurélien Géron (2021).\n",
    "</p>\n",
    "\n",
    "Um exemplo de redução de dimensionalidade é a visualização de dados. Suponha por exemplo que você tem um problema complexo de dados não rotulados e você deseja visualizar a distribuição desses dados sem perder muita informação. Então, é possível rodar um algoritmo que detecta as duas ou três features principais do problema e plotá-las com o intuito de visualização, como mostra a figura 6. Além disso, a redução de dimensionalidade pode ser usada como um extrator das features mais importantes para o treinamento de modelos supervisionados, por exemplo, com o intuito de diminuir a complexidade do problema. \n",
    "\n",
    "<p align='center'>\n",
    "    <img src='./images/unsupervised_visualization.png'>\n",
    "    Figura 6: Exemplo de um problema de redução de dimensionalidade de aprendizado não supervisionado. Fonte: Aurélien Géron (2021).\n",
    "</p>\n",
    "\n",
    "Por fim, exemplos na área de detecção de anomalias são: prevenir a fraude de cartões de crédito, detectar defeitos de fabrição ou até detectar outliers no conjunto de dados. O algoritmo aprende as instâncias normais durante o treinamento e, partir delas, pode inferir se uma nova instância que chegou faz parte ou não do padrão aprendido, como mostra a figura 7.\n",
    "\n",
    "<p align='center'>\n",
    "    <img src='./images/unsupervised_anomaly_detection.png'>\n",
    "    Figura 7: Exemplo de um problema de detecção de anomalia de aprendizado não supervisionado. Fonte: Aurélien Géron (2021).\n",
    "</p>\n",
    "\n",
    "Alguns dos algoritmos mais importantes desse tipo de aprendizado são:\n",
    "\n",
    "- Principal Component Analysis (PCA)\n",
    "- Kernel PCA\n",
    "- Locally-Linear Embedding (LLE)\n",
    "- t-distributed Stochastic Neighbor Embedding (t-SNE)\n"
   ]
  },
  {
   "attachments": {},
   "cell_type": "markdown",
   "metadata": {},
   "source": [
    "## **Aprendizagem por Reforço**"
   ]
  },
  {
   "attachments": {},
   "cell_type": "markdown",
   "metadata": {},
   "source": [
    "De acordo com Géron (2021), a aprendizagem por reforço é uma técnica de aprendizado de máquina que lida com um agente que aprende a tomar decisões em um ambiente incerto, através de tentativa e erro. O agente interage com o ambiente em um ciclo contínuo, recebendo um estado como entrada, tomando uma ação e recebendo uma recompensa em resposta. O objetivo é aprender uma política, ou seja, uma função que mapeia estados para ações, que maximize a recompensa acumulada ao longo do tempo. \n",
    "\n",
    "Um exemplo de aplicação de aprendizagem por reforço é como ensinar a um robô pode andar e interagir com o ambiente, como ilustra a figura 8. Primeiro, ele observa o ambiente, seleciona uma ação a partir de uma política e a realiza. A partir desse evento, o robô pode receber uma recompensa ou uma penalidade, a qual será utilizada para a atualização da política na próxima iteração. Esse processo é realizado até se encontrar a política ótima. \n",
    "\n",
    "<p align='center'>\n",
    "    <img src='./images/unsupervised_anomaly_detection.png'>\n",
    "    Figura 8: Exemplo de um problema de aprendizagem por reforço. Fonte: Aurélien Géron (2021).\n",
    "</p>\n",
    "\n",
    "Um exemplo famoso nessa é a o algoritmo AlphaGo da empresa DeepMind, o qual conseguiu ganhar do campeão mundial Ke Jie do game japonês <i>Go</i>. O algoritmo aprendeu sua política vencedora analisando milhões de jogos e depois jogando muitos jogos contra si mesmo. É importante destacar que o aprendizado foi desativado durante os jogos contra o campeão; AlphaGo estava apenas aplicando a política que havia aprendido.\n",
    "\n",
    "Alguns dos algoritmos mais famosos desse tipo de aprendizado são:\n",
    "\n",
    "- Processo de Decisão de Markov\n",
    "- Q de aprendizagem"
   ]
  },
  {
   "attachments": {},
   "cell_type": "markdown",
   "metadata": {},
   "source": [
    "## Referências\n",
    "\n",
    "- Géron, A. Mãos A Obra: Aprendizado De Máquina Com Scikit-Learn, Keras & TensorFlow: Conceitos, Ferramentas e Técnicas Para a Construção de Sistemas Inteligentes. O'reilly, 2021."
   ]
  }
 ],
 "metadata": {
  "kernelspec": {
   "display_name": "gpu",
   "language": "python",
   "name": "python3"
  },
  "language_info": {
   "codemirror_mode": {
    "name": "ipython",
    "version": 3
   },
   "file_extension": ".py",
   "mimetype": "text/x-python",
   "name": "python",
   "nbconvert_exporter": "python",
   "pygments_lexer": "ipython3",
   "version": "3.9.16"
  },
  "orig_nbformat": 4
 },
 "nbformat": 4,
 "nbformat_minor": 2
}
