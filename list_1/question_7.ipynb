{
 "cells": [
  {
   "attachments": {},
   "cell_type": "markdown",
   "metadata": {},
   "source": [
    "# **Questão 7**\n",
    "\n",
    "As  funções  de  saída  das  redes  neurais dependem  do  modelo  que  se  busca  gerar  com  a rede.  Faça  uma  análise  sobre  a  escolhas  destas  funções  considerando  os  seguintes  problemas: \n",
    " \n",
    "- Classificação de padrões com duas classes \n",
    "- Classificação de padrões com múltiplas classes\n",
    "- Problema de regressão (aproximação de funções)"
   ]
  },
  {
   "attachments": {},
   "cell_type": "markdown",
   "metadata": {},
   "source": [
    "As escolhas das camadas de saída em redes neurais artificiais dependem do tipo de problema a ser resolvido. Para problemas de classificação binária, classificação de múltiplas classes e problemas de regressão, há diferentes opções para as camadas de saída. De acordo com BROWNLEE (2021), a escolha da camada de saída depende do tipo de variável que está sendo predita, tipos esses que podem ser dividido em dois grupos: classificação e regressão. A figura 1 mostra um diagrama de quais tipos de camada de saída são mais indicadas para cada tipo de problema.\n",
    "\n",
    "<p align='center'>\n",
    "    <img src=\"./images/output.png\", width='800px'>\\\n",
    "\n",
    "    Figura 1. Diagrama de funções de ativação da camada de saída para cada tipo de problema. Fonte. BROWNLEE (2021).\n",
    "</p>"
   ]
  },
  {
   "attachments": {},
   "cell_type": "markdown",
   "metadata": {},
   "source": [
    "## **Problemas de regressão**"
   ]
  },
  {
   "attachments": {},
   "cell_type": "markdown",
   "metadata": {},
   "source": [
    "De acordo com o autor, caso o problema tratado seja de regressão, a camada de saída deve ter um nó que produza uma saída contínua e não limitada que representa a saída predita. Além disso, como o objetivo é aproximar uma função, a camada de saída desse tipo de problema deve apenas mapear a entrada para saída  sem aplicar nenhuma transformação não-linear, permitindo assim que a rede neural produza uma saída contínua que é proporcional à entrada. Com isso em vista, a função de ativação usada na camada de saída para problemas de regressão é a linear. A figura 2 ilusta o comportamento dessa função.\n",
    "\n",
    "<p align='center'>\n",
    "    <img src=\"./images/linear.png\", width='500px'>\n",
    "\n",
    "    Figura 2. Comportamento da função de ativação linear. Fonte. BROWNLEE (2021).\n",
    "</p>\n",
    "\n"
   ]
  },
  {
   "attachments": {},
   "cell_type": "markdown",
   "metadata": {},
   "source": [
    "## **Problemas de classificação binária**"
   ]
  },
  {
   "attachments": {},
   "cell_type": "markdown",
   "metadata": {},
   "source": [
    "Em contraste com os problemas de regressão, o objetivo aqui é estimar a probabilidade de uma instância pertencer a uma determinada classe. Então, em problemas de classificação binária, a camada de saída deve ter apenas um nó que produzirá uma saída entre 0 e 1, indicando a probabilidade da instância pertencer a classe positiva. De acordo com o autor, a função de ativação mais indicada para problemas de regresão é a sigmoid. A figura 3 ilusta o comportamento dessa função.\n",
    "\n",
    "<p align='center'>\n",
    "    <img src=\"./images/sigmoid.png\", width='500px'>\n",
    "\n",
    "    Figura 3. Comportamento da função de ativação sigmoid. Fonte. BROWNLEE (2021).\n",
    "</p>\n"
   ]
  },
  {
   "attachments": {},
   "cell_type": "markdown",
   "metadata": {},
   "source": [
    "## **Problemas de classificação Multiclasse**"
   ]
  },
  {
   "attachments": {},
   "cell_type": "markdown",
   "metadata": {},
   "source": [
    "Para problemas de classificação de múltiplas classes, a camada de saída deve ter um número de nós igual ao número de classes. Cada nó produzirá uma saída que indica a probabilidade da amostra pertencer à classe correspondente. De acordo com o autor, a função de ativação usada na camada de saída para esse tipo de problema é função de ativação softmax, dado que ela normaliza as saídas da rede neural para que a soma das saídas de cada nós seja igual a 1. Isso faz com que a saída seja uma distribuição de probabilidade."
   ]
  },
  {
   "attachments": {},
   "cell_type": "markdown",
   "metadata": {},
   "source": [
    "## **Problemas de classificação Multirrótulo**"
   ]
  },
  {
   "attachments": {},
   "cell_type": "markdown",
   "metadata": {},
   "source": [
    "Para problemas de classificação multirrótulo, a camada de saída deve ter um nó para cada classe que estime a probabilidade entre 0 e 1 daquela instância pertecer a cada classe. Assim, de acordo com o autor, a camada de saída para esse tipo de problema é a sigmoid."
   ]
  },
  {
   "attachments": {},
   "cell_type": "markdown",
   "metadata": {},
   "source": [
    "## **Referências**\n",
    "\n",
    "BROWNLEE, J. How to Choose an Activation Function for Deep Learning, 2021. Disponível em: https://machinelearningmastery.com/choose-an-activation-function-for-deep-learning/. Acesso em 02 de abr. 2023."
   ]
  }
 ],
 "metadata": {
  "language_info": {
   "name": "python"
  },
  "orig_nbformat": 4
 },
 "nbformat": 4,
 "nbformat_minor": 2
}
